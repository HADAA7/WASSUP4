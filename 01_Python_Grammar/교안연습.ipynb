{
 "cells": [
  {
   "cell_type": "code",
   "execution_count": 1,
   "id": "e60967fe-0423-400f-b82e-5dc6f481f3ee",
   "metadata": {},
   "outputs": [],
   "source": [
    ">>> a = 3"
   ]
  },
  {
   "cell_type": "code",
   "execution_count": 5,
   "id": "f62c3129-00ee-4a49-8f52-62b3b878ce6b",
   "metadata": {},
   "outputs": [],
   "source": [
    ">>> b = 4"
   ]
  },
  {
   "cell_type": "code",
   "execution_count": 7,
   "id": "5b8cd86a-07fa-4cb8-b68c-a724e2409045",
   "metadata": {},
   "outputs": [
    {
     "data": {
      "text/plain": [
       "7"
      ]
     },
     "execution_count": 7,
     "metadata": {},
     "output_type": "execute_result"
    }
   ],
   "source": [
    ">>> a + b"
   ]
  },
  {
   "cell_type": "code",
   "execution_count": 9,
   "id": "4d6cd84b-3198-482b-b5fe-3c7476c18a32",
   "metadata": {},
   "outputs": [
    {
     "ename": "SyntaxError",
     "evalue": "invalid syntax (2283818172.py, line 1)",
     "output_type": "error",
     "traceback": [
      "\u001b[1;36m  Cell \u001b[1;32mIn[9], line 1\u001b[1;36m\u001b[0m\n\u001b[1;33m    >>>a-b\u001b[0m\n\u001b[1;37m    ^\u001b[0m\n\u001b[1;31mSyntaxError\u001b[0m\u001b[1;31m:\u001b[0m invalid syntax\n"
     ]
    }
   ],
   "source": [
    ">>>a-b"
   ]
  },
  {
   "cell_type": "code",
   "execution_count": 11,
   "id": "3943c445-6b75-4373-a7e2-339c9b772cf1",
   "metadata": {},
   "outputs": [
    {
     "data": {
      "text/plain": [
       "-1"
      ]
     },
     "execution_count": 11,
     "metadata": {},
     "output_type": "execute_result"
    }
   ],
   "source": [
    ">>> a - b"
   ]
  },
  {
   "cell_type": "code",
   "execution_count": 13,
   "id": "46626b6d-335b-494a-adea-2fccea68ce13",
   "metadata": {},
   "outputs": [
    {
     "data": {
      "text/plain": [
       "12"
      ]
     },
     "execution_count": 13,
     "metadata": {},
     "output_type": "execute_result"
    }
   ],
   "source": [
    ">>> a * b"
   ]
  },
  {
   "cell_type": "code",
   "execution_count": 25,
   "id": "17fd202e-df4c-40c3-8542-f42371018406",
   "metadata": {},
   "outputs": [
    {
     "data": {
      "text/plain": [
       "1.0"
      ]
     },
     "execution_count": 25,
     "metadata": {},
     "output_type": "execute_result"
    }
   ],
   "source": [
    ">>> a / b"
   ]
  },
  {
   "cell_type": "code",
   "execution_count": 31,
   "id": "05dcf3f4-efcb-4232-aabe-7b9d047f4346",
   "metadata": {},
   "outputs": [],
   "source": [
    "a = 3"
   ]
  },
  {
   "cell_type": "code",
   "execution_count": 33,
   "id": "57651dc4-5e99-423f-b50b-545d79937412",
   "metadata": {},
   "outputs": [],
   "source": [
    "b = 4"
   ]
  },
  {
   "cell_type": "code",
   "execution_count": 35,
   "id": "907d49e7-b92f-4ecd-9cbf-1d511bfce497",
   "metadata": {},
   "outputs": [
    {
     "data": {
      "text/plain": [
       "7"
      ]
     },
     "execution_count": 35,
     "metadata": {},
     "output_type": "execute_result"
    }
   ],
   "source": [
    "a+b"
   ]
  },
  {
   "cell_type": "code",
   "execution_count": 37,
   "id": "3447a004-baa0-4808-81c7-11c4ad35287b",
   "metadata": {},
   "outputs": [
    {
     "data": {
      "text/plain": [
       "81"
      ]
     },
     "execution_count": 37,
     "metadata": {},
     "output_type": "execute_result"
    }
   ],
   "source": [
    "a**b"
   ]
  },
  {
   "cell_type": "code",
   "execution_count": 39,
   "id": "b0e8ae0b-02c2-4712-b1b5-8da2c66c8102",
   "metadata": {},
   "outputs": [
    {
     "data": {
      "text/plain": [
       "3"
      ]
     },
     "execution_count": 39,
     "metadata": {},
     "output_type": "execute_result"
    }
   ],
   "source": [
    "a"
   ]
  },
  {
   "cell_type": "code",
   "execution_count": 41,
   "id": "6ed0d287-cedc-420d-aad3-0e931a8f80f3",
   "metadata": {},
   "outputs": [
    {
     "data": {
      "text/plain": [
       "1"
      ]
     },
     "execution_count": 41,
     "metadata": {},
     "output_type": "execute_result"
    }
   ],
   "source": [
    "7%3"
   ]
  },
  {
   "cell_type": "code",
   "execution_count": 49,
   "id": "f51b5b3f-2dd4-4b28-9f2c-7f9c3869e55d",
   "metadata": {},
   "outputs": [
    {
     "data": {
      "text/plain": [
       "3"
      ]
     },
     "execution_count": 49,
     "metadata": {},
     "output_type": "execute_result"
    }
   ],
   "source": [
    "3%7"
   ]
  },
  {
   "cell_type": "code",
   "execution_count": 51,
   "id": "0f536c25-7f9a-4912-894d-08c18b4696c1",
   "metadata": {},
   "outputs": [
    {
     "data": {
      "text/plain": [
       "1"
      ]
     },
     "execution_count": 51,
     "metadata": {},
     "output_type": "execute_result"
    }
   ],
   "source": [
    "9//7"
   ]
  },
  {
   "cell_type": "code",
   "execution_count": 55,
   "id": "a2f29c1e-0d97-4555-8ca7-fa1418006986",
   "metadata": {},
   "outputs": [],
   "source": [
    "a=1"
   ]
  },
  {
   "cell_type": "code",
   "execution_count": 57,
   "id": "f72e1d2c-16f6-4e3f-ab42-cbde80b20f9a",
   "metadata": {},
   "outputs": [],
   "source": [
    "a=a+1"
   ]
  },
  {
   "cell_type": "code",
   "execution_count": 59,
   "id": "d8f81de6-1e30-4132-90bc-5d87f1cfbe44",
   "metadata": {},
   "outputs": [
    {
     "name": "stdout",
     "output_type": "stream",
     "text": [
      "2\n"
     ]
    }
   ],
   "source": [
    "print(a)"
   ]
  },
  {
   "cell_type": "code",
   "execution_count": 77,
   "id": "51380c6a-f847-4872-8663-7f4a5e1113ea",
   "metadata": {},
   "outputs": [
    {
     "data": {
      "text/plain": [
       "-5"
      ]
     },
     "execution_count": 77,
     "metadata": {},
     "output_type": "execute_result"
    }
   ],
   "source": [
    "a"
   ]
  },
  {
   "cell_type": "code",
   "execution_count": 79,
   "id": "73178e7a-9103-41bd-a0f5-8ba92b6924cb",
   "metadata": {},
   "outputs": [],
   "source": [
    "a=2"
   ]
  },
  {
   "cell_type": "code",
   "execution_count": 81,
   "id": "89e468a8-0487-4b57-a31b-37456edf85f0",
   "metadata": {},
   "outputs": [
    {
     "data": {
      "text/plain": [
       "2"
      ]
     },
     "execution_count": 81,
     "metadata": {},
     "output_type": "execute_result"
    }
   ],
   "source": [
    "a"
   ]
  },
  {
   "cell_type": "code",
   "execution_count": 83,
   "id": "74b734b1-b989-41a0-9f61-ac7e2533166d",
   "metadata": {},
   "outputs": [],
   "source": [
    "a-=1"
   ]
  },
  {
   "cell_type": "code",
   "execution_count": 85,
   "id": "68f1988e-84d6-4c8e-9268-553b0f08d5e3",
   "metadata": {},
   "outputs": [
    {
     "data": {
      "text/plain": [
       "1"
      ]
     },
     "execution_count": 85,
     "metadata": {},
     "output_type": "execute_result"
    }
   ],
   "source": [
    "a"
   ]
  },
  {
   "cell_type": "code",
   "execution_count": 87,
   "id": "21f261f1-5201-47ac-a593-500a3cbf1af5",
   "metadata": {},
   "outputs": [],
   "source": [
    "a=3"
   ]
  },
  {
   "cell_type": "code",
   "execution_count": 89,
   "id": "029bba41-0fc6-4500-9430-2051fad77cef",
   "metadata": {},
   "outputs": [],
   "source": [
    "a//=2"
   ]
  },
  {
   "cell_type": "code",
   "execution_count": 91,
   "id": "d3f9b4a0-9dca-49c0-bb2d-c4ead693a9ae",
   "metadata": {},
   "outputs": [
    {
     "name": "stdout",
     "output_type": "stream",
     "text": [
      "1\n"
     ]
    }
   ],
   "source": [
    "print(a)"
   ]
  },
  {
   "cell_type": "code",
   "execution_count": 93,
   "id": "04a9e1aa-4d26-4f4c-b4db-e5599ce3ab3f",
   "metadata": {},
   "outputs": [
    {
     "data": {
      "text/plain": [
       "'Hello world'"
      ]
     },
     "execution_count": 93,
     "metadata": {},
     "output_type": "execute_result"
    }
   ],
   "source": [
    "\"Hello world\""
   ]
  },
  {
   "cell_type": "code",
   "execution_count": 95,
   "id": "2f7ca4f3-3fff-4cf8-9fc0-5ad8d568e52f",
   "metadata": {},
   "outputs": [
    {
     "data": {
      "text/plain": [
       "'Python is fun'"
      ]
     },
     "execution_count": 95,
     "metadata": {},
     "output_type": "execute_result"
    }
   ],
   "source": [
    "\"Python is fun\""
   ]
  },
  {
   "cell_type": "code",
   "execution_count": 97,
   "id": "a9eb7baf-2f75-4853-966a-43c250bf7b01",
   "metadata": {},
   "outputs": [
    {
     "data": {
      "text/plain": [
       "'웃기지마라'"
      ]
     },
     "execution_count": 97,
     "metadata": {},
     "output_type": "execute_result"
    }
   ],
   "source": [
    "\"웃기지마라\""
   ]
  },
  {
   "cell_type": "code",
   "execution_count": 99,
   "id": "3e796209-1c07-46e7-9f75-e1fa19455b79",
   "metadata": {},
   "outputs": [
    {
     "data": {
      "text/plain": [
       "'FFFFF'"
      ]
     },
     "execution_count": 99,
     "metadata": {},
     "output_type": "execute_result"
    }
   ],
   "source": [
    "'FFFFF'"
   ]
  },
  {
   "cell_type": "code",
   "execution_count": 101,
   "id": "a16db867-9cd6-4d53-9482-70ec39affe26",
   "metadata": {},
   "outputs": [
    {
     "data": {
      "text/plain": [
       "'Life is too short, You need python'"
      ]
     },
     "execution_count": 101,
     "metadata": {},
     "output_type": "execute_result"
    }
   ],
   "source": [
    "\"\"\"Life is too short, You need python\"\"\""
   ]
  },
  {
   "cell_type": "code",
   "execution_count": 103,
   "id": "06332d39-6ca6-4e4f-8927-7472d8ea59ac",
   "metadata": {},
   "outputs": [
    {
     "name": "stdout",
     "output_type": "stream",
     "text": [
      "a\n"
     ]
    }
   ],
   "source": [
    "print('a')"
   ]
  },
  {
   "cell_type": "code",
   "execution_count": 105,
   "id": "3d7702b9-989c-481b-9f38-ac375c825279",
   "metadata": {},
   "outputs": [
    {
     "ename": "SyntaxError",
     "evalue": "unterminated string literal (detected at line 1) (4003351211.py, line 1)",
     "output_type": "error",
     "traceback": [
      "\u001b[1;36m  Cell \u001b[1;32mIn[105], line 1\u001b[1;36m\u001b[0m\n\u001b[1;33m    food = '\"Python's favorite food is perl\"'\u001b[0m\n\u001b[1;37m                                           ^\u001b[0m\n\u001b[1;31mSyntaxError\u001b[0m\u001b[1;31m:\u001b[0m unterminated string literal (detected at line 1)\n"
     ]
    }
   ],
   "source": [
    "food = '\"Python's favorite food is perl\"'"
   ]
  },
  {
   "cell_type": "code",
   "execution_count": 111,
   "id": "6a12ccef-901d-4e42-a306-413b8fc8e5f0",
   "metadata": {},
   "outputs": [
    {
     "name": "stdout",
     "output_type": "stream",
     "text": [
      "Python's favorite food is perl\n"
     ]
    }
   ],
   "source": [
    "food = \"Python's favorite food is perl\"\n",
    "print(food)"
   ]
  },
  {
   "cell_type": "code",
   "execution_count": 113,
   "id": "a045c408-5313-4e23-972f-aa5eedb4ae99",
   "metadata": {},
   "outputs": [
    {
     "name": "stdout",
     "output_type": "stream",
     "text": [
      "\"python is very f.\" she said.\n"
     ]
    }
   ],
   "source": [
    "say='\"python is very f.\" she said.'\n",
    "print(say)"
   ]
  },
  {
   "cell_type": "code",
   "execution_count": 115,
   "id": "57a6a0af-df5e-47c2-9eb4-5ccb8f757249",
   "metadata": {},
   "outputs": [],
   "source": [
    "food='Pyhton\\'s favorite food is perl'\n",
    "say=\"\\\"Python is very easy.\\\" he said.\""
   ]
  },
  {
   "cell_type": "code",
   "execution_count": 117,
   "id": "424f4cf1-1503-4384-ad51-0c441b9696c4",
   "metadata": {},
   "outputs": [
    {
     "data": {
      "text/plain": [
       "\"Pyhton's favorite food is perl\""
      ]
     },
     "execution_count": 117,
     "metadata": {},
     "output_type": "execute_result"
    }
   ],
   "source": [
    "food"
   ]
  },
  {
   "cell_type": "code",
   "execution_count": 119,
   "id": "b80a270f-a02b-485c-affa-d27e53dde538",
   "metadata": {},
   "outputs": [
    {
     "data": {
      "text/plain": [
       "'\"Python is very easy.\" he said.'"
      ]
     },
     "execution_count": 119,
     "metadata": {},
     "output_type": "execute_result"
    }
   ],
   "source": [
    "say"
   ]
  },
  {
   "cell_type": "code",
   "execution_count": 123,
   "id": "cf2c85e7-3753-4bde-a8d4-9ae50c053170",
   "metadata": {},
   "outputs": [],
   "source": [
    "multiline=\"Life is too short\\nYou need python\""
   ]
  },
  {
   "cell_type": "code",
   "execution_count": 125,
   "id": "3a70b82b-b845-47b6-954f-8efff7a2088c",
   "metadata": {},
   "outputs": [
    {
     "data": {
      "text/plain": [
       "'Life is too short\\nYou need python'"
      ]
     },
     "execution_count": 125,
     "metadata": {},
     "output_type": "execute_result"
    }
   ],
   "source": [
    "multiline"
   ]
  },
  {
   "cell_type": "code",
   "execution_count": 127,
   "id": "09f75374-f039-40e9-87e2-09ac9b89b455",
   "metadata": {},
   "outputs": [],
   "source": [
    "multiline='''\n",
    "Life is too short\n",
    "You need python\n",
    "'''"
   ]
  },
  {
   "cell_type": "code",
   "execution_count": 129,
   "id": "b5616647-8416-45ce-88b1-0d57d3fd26de",
   "metadata": {},
   "outputs": [
    {
     "data": {
      "text/plain": [
       "'\\nLife is too short\\nYou need python\\n'"
      ]
     },
     "execution_count": 129,
     "metadata": {},
     "output_type": "execute_result"
    }
   ],
   "source": [
    "multiline"
   ]
  },
  {
   "cell_type": "code",
   "execution_count": 131,
   "id": "5f9babf1-e51b-4abd-80d3-f2e65f84d295",
   "metadata": {},
   "outputs": [],
   "source": [
    "A='''\n",
    "life is too short\n",
    "ffffff\n",
    "'''"
   ]
  },
  {
   "cell_type": "code",
   "execution_count": 133,
   "id": "7ba8d28b-3a0b-46af-9d17-d05a96b07486",
   "metadata": {},
   "outputs": [
    {
     "data": {
      "text/plain": [
       "'\\nlife is too short\\nffffff\\n'"
      ]
     },
     "execution_count": 133,
     "metadata": {},
     "output_type": "execute_result"
    }
   ],
   "source": [
    "A"
   ]
  },
  {
   "cell_type": "code",
   "execution_count": 135,
   "id": "a6598939-1bd7-4510-a546-7023a159ae7e",
   "metadata": {},
   "outputs": [],
   "source": [
    ">>> multiline='''\n",
    "... Life is too short\n",
    "... You need python\n",
    "... '''"
   ]
  },
  {
   "cell_type": "code",
   "execution_count": 137,
   "id": "7efc8a6c-efd3-4eb0-b4f7-9faba869df8f",
   "metadata": {},
   "outputs": [
    {
     "data": {
      "text/plain": [
       "'\\nLife is too short\\nYou need python\\n'"
      ]
     },
     "execution_count": 137,
     "metadata": {},
     "output_type": "execute_result"
    }
   ],
   "source": [
    "multiline"
   ]
  },
  {
   "cell_type": "code",
   "execution_count": 139,
   "id": "96bee900-d785-4fcd-9464-950aa73ffa6f",
   "metadata": {},
   "outputs": [
    {
     "name": "stdout",
     "output_type": "stream",
     "text": [
      "\n",
      "Life is too short\n",
      "You need python\n",
      "\n"
     ]
    }
   ],
   "source": [
    "print(multiline)"
   ]
  },
  {
   "cell_type": "code",
   "execution_count": 141,
   "id": "9793115c-b58f-489b-908b-ae27a0256938",
   "metadata": {},
   "outputs": [],
   "source": [
    "A='''\n",
    "life is too short\n",
    "ffffff'''"
   ]
  },
  {
   "cell_type": "code",
   "execution_count": 143,
   "id": "907c7847-2f7b-4bb8-a690-597dff217cd0",
   "metadata": {},
   "outputs": [
    {
     "name": "stdout",
     "output_type": "stream",
     "text": [
      "\n",
      "life is too short\n",
      "ffffff\n"
     ]
    }
   ],
   "source": [
    "print(A)"
   ]
  },
  {
   "cell_type": "code",
   "execution_count": 145,
   "id": "3835d891-6dff-4270-ad2c-eac524d36d03",
   "metadata": {},
   "outputs": [
    {
     "data": {
      "text/plain": [
       "'Python is fun!'"
      ]
     },
     "execution_count": 145,
     "metadata": {},
     "output_type": "execute_result"
    }
   ],
   "source": [
    "head=\"Python\"\n",
    "tail=\" is fun!\"\n",
    "head+tail"
   ]
  },
  {
   "cell_type": "code",
   "execution_count": 147,
   "id": "8ef6a36c-4593-40dc-bf8a-5a9bac0f70d6",
   "metadata": {},
   "outputs": [
    {
     "data": {
      "text/plain": [
       "'fffffffffffffff'"
      ]
     },
     "execution_count": 147,
     "metadata": {},
     "output_type": "execute_result"
    }
   ],
   "source": [
    "a=\"fffff\"\n",
    "a*3"
   ]
  },
  {
   "cell_type": "code",
   "execution_count": 149,
   "id": "f2205060-aa46-4698-ba5b-d4525e0a90f6",
   "metadata": {},
   "outputs": [],
   "source": [
    "a = \"Life is too short, You need Python\""
   ]
  },
  {
   "cell_type": "code",
   "execution_count": 151,
   "id": "a575d1a3-0f68-46fc-96ef-c510fffe78f3",
   "metadata": {},
   "outputs": [
    {
     "data": {
      "text/plain": [
       "'Life is too short, You need Python'"
      ]
     },
     "execution_count": 151,
     "metadata": {},
     "output_type": "execute_result"
    }
   ],
   "source": [
    "a"
   ]
  },
  {
   "cell_type": "code",
   "execution_count": 153,
   "id": "6269ae9a-1bfe-41b7-8cba-0275abbaa117",
   "metadata": {},
   "outputs": [
    {
     "data": {
      "text/plain": [
       "'Life is too short'"
      ]
     },
     "execution_count": 153,
     "metadata": {},
     "output_type": "execute_result"
    }
   ],
   "source": [
    "a[:17]"
   ]
  },
  {
   "cell_type": "code",
   "execution_count": 155,
   "id": "ce99cff9-6990-4b2a-abac-a2851d6bb70a",
   "metadata": {},
   "outputs": [
    {
     "data": {
      "text/plain": [
       "'Life is too short, You need Python'"
      ]
     },
     "execution_count": 155,
     "metadata": {},
     "output_type": "execute_result"
    }
   ],
   "source": [
    "a[:]"
   ]
  },
  {
   "cell_type": "code",
   "execution_count": 157,
   "id": "7971bb6e-0947-4123-aeca-6cb5e6db1d5d",
   "metadata": {},
   "outputs": [
    {
     "data": {
      "text/plain": [
       "'20230331'"
      ]
     },
     "execution_count": 157,
     "metadata": {},
     "output_type": "execute_result"
    }
   ],
   "source": [
    "a = \"20230331Rainy\"\n",
    "date = a[:8]\n",
    "weather = a[8:]\n",
    "date"
   ]
  },
  {
   "cell_type": "code",
   "execution_count": 159,
   "id": "237e8acc-10cd-4bba-b42e-0d0013b5dcb7",
   "metadata": {},
   "outputs": [
    {
     "data": {
      "text/plain": [
       "'Rainy'"
      ]
     },
     "execution_count": 159,
     "metadata": {},
     "output_type": "execute_result"
    }
   ],
   "source": [
    "weather"
   ]
  },
  {
   "cell_type": "code",
   "execution_count": 161,
   "id": "e9a1d65c-5b9a-48c5-8fe1-782196b72d66",
   "metadata": {},
   "outputs": [],
   "source": [
    "a = \"Pithon\""
   ]
  },
  {
   "cell_type": "code",
   "execution_count": 163,
   "id": "ea55cfed-39a9-4a85-b6e2-15dae0699ffd",
   "metadata": {},
   "outputs": [
    {
     "ename": "TypeError",
     "evalue": "'str' object does not support item assignment",
     "output_type": "error",
     "traceback": [
      "\u001b[1;31m---------------------------------------------------------------------------\u001b[0m",
      "\u001b[1;31mTypeError\u001b[0m                                 Traceback (most recent call last)",
      "Cell \u001b[1;32mIn[163], line 1\u001b[0m\n\u001b[1;32m----> 1\u001b[0m a[\u001b[38;5;241m1\u001b[39m] \u001b[38;5;241m=\u001b[39m \u001b[38;5;124m'\u001b[39m\u001b[38;5;124my\u001b[39m\u001b[38;5;124m'\u001b[39m\n",
      "\u001b[1;31mTypeError\u001b[0m: 'str' object does not support item assignment"
     ]
    }
   ],
   "source": [
    "a[1] = 'y'"
   ]
  },
  {
   "cell_type": "code",
   "execution_count": 165,
   "id": "0adbac49-5647-4112-8ccc-7db622550508",
   "metadata": {},
   "outputs": [
    {
     "data": {
      "text/plain": [
       "'i'"
      ]
     },
     "execution_count": 165,
     "metadata": {},
     "output_type": "execute_result"
    }
   ],
   "source": [
    "a[1]"
   ]
  },
  {
   "cell_type": "code",
   "execution_count": 167,
   "id": "f45dd0f6-5b74-48d0-85d9-538f65637210",
   "metadata": {},
   "outputs": [
    {
     "ename": "TypeError",
     "evalue": "'str' object does not support item assignment",
     "output_type": "error",
     "traceback": [
      "\u001b[1;31m---------------------------------------------------------------------------\u001b[0m",
      "\u001b[1;31mTypeError\u001b[0m                                 Traceback (most recent call last)",
      "Cell \u001b[1;32mIn[167], line 1\u001b[0m\n\u001b[1;32m----> 1\u001b[0m a[\u001b[38;5;241m1\u001b[39m]\u001b[38;5;241m=\u001b[39m\u001b[38;5;124m'\u001b[39m\u001b[38;5;124my\u001b[39m\u001b[38;5;124m'\u001b[39m\n",
      "\u001b[1;31mTypeError\u001b[0m: 'str' object does not support item assignment"
     ]
    }
   ],
   "source": [
    "a[1]='y'"
   ]
  },
  {
   "cell_type": "code",
   "execution_count": 169,
   "id": "77816ff8-da4c-4e50-b7da-ff2c1af558aa",
   "metadata": {},
   "outputs": [
    {
     "data": {
      "text/plain": [
       "'I eat 3 apples.'"
      ]
     },
     "execution_count": 169,
     "metadata": {},
     "output_type": "execute_result"
    }
   ],
   "source": [
    "\"I eat %d apples.\" %3"
   ]
  },
  {
   "cell_type": "code",
   "execution_count": 171,
   "id": "4ca3dbb8-5ed6-4605-a14b-f7c55c76de35",
   "metadata": {},
   "outputs": [
    {
     "data": {
      "text/plain": [
       "'I eat 5 apples.'"
      ]
     },
     "execution_count": 171,
     "metadata": {},
     "output_type": "execute_result"
    }
   ],
   "source": [
    "\"I eat %s apples.\" %5"
   ]
  },
  {
   "cell_type": "code",
   "execution_count": 173,
   "id": "3ecf4b92-c6ab-422e-9961-82944429d831",
   "metadata": {},
   "outputs": [
    {
     "ename": "NameError",
     "evalue": "name 'five' is not defined",
     "output_type": "error",
     "traceback": [
      "\u001b[1;31m---------------------------------------------------------------------------\u001b[0m",
      "\u001b[1;31mNameError\u001b[0m                                 Traceback (most recent call last)",
      "Cell \u001b[1;32mIn[173], line 1\u001b[0m\n\u001b[1;32m----> 1\u001b[0m \u001b[38;5;124m\"\u001b[39m\u001b[38;5;124mI eat \u001b[39m\u001b[38;5;132;01m%s\u001b[39;00m\u001b[38;5;124m apples.\u001b[39m\u001b[38;5;124m\"\u001b[39m \u001b[38;5;241m%\u001b[39mfive\n",
      "\u001b[1;31mNameError\u001b[0m: name 'five' is not defined"
     ]
    }
   ],
   "source": [
    "\"I eat %s apples.\" %five"
   ]
  },
  {
   "cell_type": "code",
   "execution_count": 175,
   "id": "bb8923d5-033a-4f37-8eb3-fe19ab7fcb0c",
   "metadata": {},
   "outputs": [
    {
     "data": {
      "text/plain": [
       "'I eat five apples.'"
      ]
     },
     "execution_count": 175,
     "metadata": {},
     "output_type": "execute_result"
    }
   ],
   "source": [
    "\"I eat %s apples.\" % \"five\"\n",
    "'I eat five apples.'"
   ]
  },
  {
   "cell_type": "code",
   "execution_count": 177,
   "id": "ec96bc32-3b26-438c-814c-5821f5fcf0ed",
   "metadata": {},
   "outputs": [
    {
     "ename": "TypeError",
     "evalue": "%d format: a real number is required, not str",
     "output_type": "error",
     "traceback": [
      "\u001b[1;31m---------------------------------------------------------------------------\u001b[0m",
      "\u001b[1;31mTypeError\u001b[0m                                 Traceback (most recent call last)",
      "Cell \u001b[1;32mIn[177], line 3\u001b[0m\n\u001b[0;32m      1\u001b[0m number \u001b[38;5;241m=\u001b[39m \u001b[38;5;241m10\u001b[39m\n\u001b[0;32m      2\u001b[0m day \u001b[38;5;241m=\u001b[39m \u001b[38;5;124m\"\u001b[39m\u001b[38;5;124mthree\u001b[39m\u001b[38;5;124m\"\u001b[39m\n\u001b[1;32m----> 3\u001b[0m \u001b[38;5;124m\"\u001b[39m\u001b[38;5;124mI ate \u001b[39m\u001b[38;5;132;01m%d\u001b[39;00m\u001b[38;5;124m apples. so I was sick for \u001b[39m\u001b[38;5;132;01m%s\u001b[39;00m\u001b[38;5;124m days.\u001b[39m\u001b[38;5;124m\"\u001b[39m \u001b[38;5;241m%\u001b[39m (day,number)\n",
      "\u001b[1;31mTypeError\u001b[0m: %d format: a real number is required, not str"
     ]
    }
   ],
   "source": [
    ">>> number = 10\n",
    ">>> day = \"three\"\n",
    ">>> \"I ate %d apples. so I was sick for %s days.\" % (day,number)"
   ]
  },
  {
   "cell_type": "code",
   "execution_count": 179,
   "id": "9d868cf1-978f-4edc-9d7c-65108ee599c7",
   "metadata": {},
   "outputs": [
    {
     "data": {
      "text/plain": [
       "'I ate three apples. so I was sick for 10 days.'"
      ]
     },
     "execution_count": 179,
     "metadata": {},
     "output_type": "execute_result"
    }
   ],
   "source": [
    ">>> number = 10\n",
    ">>> day = \"three\"\n",
    ">>> \"I ate %s apples. so I was sick for %d days.\" % (day,number)"
   ]
  },
  {
   "cell_type": "code",
   "execution_count": 181,
   "id": "0e7f6891-dee9-4860-ac1b-b900ec705348",
   "metadata": {},
   "outputs": [
    {
     "ename": "TypeError",
     "evalue": "%d format: a real number is required, not str",
     "output_type": "error",
     "traceback": [
      "\u001b[1;31m---------------------------------------------------------------------------\u001b[0m",
      "\u001b[1;31mTypeError\u001b[0m                                 Traceback (most recent call last)",
      "Cell \u001b[1;32mIn[181], line 3\u001b[0m\n\u001b[0;32m      1\u001b[0m number \u001b[38;5;241m=\u001b[39m \u001b[38;5;241m10\u001b[39m\n\u001b[0;32m      2\u001b[0m day \u001b[38;5;241m=\u001b[39m \u001b[38;5;124m\"\u001b[39m\u001b[38;5;124mthree\u001b[39m\u001b[38;5;124m\"\u001b[39m\n\u001b[1;32m----> 3\u001b[0m \u001b[38;5;124m\"\u001b[39m\u001b[38;5;124mI ate \u001b[39m\u001b[38;5;132;01m%d\u001b[39;00m\u001b[38;5;124m apples. so I was sick for \u001b[39m\u001b[38;5;132;01m%s\u001b[39;00m\u001b[38;5;124m days. \u001b[39m\u001b[38;5;132;01m%d\u001b[39;00m\u001b[38;5;124m, \u001b[39m\u001b[38;5;132;01m%s\u001b[39;00m\u001b[38;5;124m.\u001b[39m\u001b[38;5;124m\"\u001b[39m \u001b[38;5;241m%\u001b[39m (day,number)\n",
      "\u001b[1;31mTypeError\u001b[0m: %d format: a real number is required, not str"
     ]
    }
   ],
   "source": [
    ">>> number = 10\n",
    ">>> day = \"three\"\n",
    ">>> \"I ate %d apples. so I was sick for %s days. %d, %s.\" % (day,number)"
   ]
  },
  {
   "cell_type": "code",
   "execution_count": 183,
   "id": "caf12a05-a9b4-44d3-9384-f50c5fc0c133",
   "metadata": {},
   "outputs": [
    {
     "ename": "TypeError",
     "evalue": "%d format: a real number is required, not str",
     "output_type": "error",
     "traceback": [
      "\u001b[1;31m---------------------------------------------------------------------------\u001b[0m",
      "\u001b[1;31mTypeError\u001b[0m                                 Traceback (most recent call last)",
      "Cell \u001b[1;32mIn[183], line 3\u001b[0m\n\u001b[0;32m      1\u001b[0m number \u001b[38;5;241m=\u001b[39m \u001b[38;5;241m10\u001b[39m\n\u001b[0;32m      2\u001b[0m day \u001b[38;5;241m=\u001b[39m \u001b[38;5;124m\"\u001b[39m\u001b[38;5;124mthree\u001b[39m\u001b[38;5;124m\"\u001b[39m\n\u001b[1;32m----> 3\u001b[0m \u001b[38;5;124m\"\u001b[39m\u001b[38;5;124mI ate \u001b[39m\u001b[38;5;132;01m%d\u001b[39;00m\u001b[38;5;124m apples. so I was sick for \u001b[39m\u001b[38;5;132;01m%s\u001b[39;00m\u001b[38;5;124m days. \u001b[39m\u001b[38;5;132;01m%d\u001b[39;00m\u001b[38;5;124m, \u001b[39m\u001b[38;5;132;01m%s\u001b[39;00m\u001b[38;5;124m.\u001b[39m\u001b[38;5;124m\"\u001b[39m \u001b[38;5;241m%\u001b[39m (day,number,day,number)\n",
      "\u001b[1;31mTypeError\u001b[0m: %d format: a real number is required, not str"
     ]
    }
   ],
   "source": [
    ">>> number = 10\n",
    ">>> day = \"three\"\n",
    ">>> \"I ate %d apples. so I was sick for %s days. %d, %s.\" % (day,number,day,number)"
   ]
  },
  {
   "cell_type": "code",
   "execution_count": 185,
   "id": "0112efd1-0baf-4b55-a695-426cd542f2f2",
   "metadata": {},
   "outputs": [],
   "source": [
    "number = 10\n",
    "day = \"three\""
   ]
  },
  {
   "cell_type": "code",
   "execution_count": 187,
   "id": "93efebd8-a99b-481b-8b39-39a426371d4c",
   "metadata": {},
   "outputs": [
    {
     "data": {
      "text/plain": [
       "'I %d and %s plus %s'"
      ]
     },
     "execution_count": 187,
     "metadata": {},
     "output_type": "execute_result"
    }
   ],
   "source": [
    "\"I %d and %s plus %s\""
   ]
  },
  {
   "cell_type": "code",
   "execution_count": 189,
   "id": "ae298bf4-1785-4d9e-a373-06734036cdc0",
   "metadata": {},
   "outputs": [
    {
     "ename": "NameError",
     "evalue": "name 'numder' is not defined",
     "output_type": "error",
     "traceback": [
      "\u001b[1;31m---------------------------------------------------------------------------\u001b[0m",
      "\u001b[1;31mNameError\u001b[0m                                 Traceback (most recent call last)",
      "Cell \u001b[1;32mIn[189], line 1\u001b[0m\n\u001b[1;32m----> 1\u001b[0m \u001b[38;5;124m\"\u001b[39m\u001b[38;5;124mI \u001b[39m\u001b[38;5;132;01m%d\u001b[39;00m\u001b[38;5;124m and \u001b[39m\u001b[38;5;132;01m%s\u001b[39;00m\u001b[38;5;124m plus \u001b[39m\u001b[38;5;132;01m%s\u001b[39;00m\u001b[38;5;124m\"\u001b[39m \u001b[38;5;241m%\u001b[39m(numder, day, day)\n",
      "\u001b[1;31mNameError\u001b[0m: name 'numder' is not defined"
     ]
    }
   ],
   "source": [
    "\"I %d and %s plus %s\" %(numder, day, day)"
   ]
  },
  {
   "cell_type": "code",
   "execution_count": 191,
   "id": "808563d2-ca35-4da4-82de-224a57f7df77",
   "metadata": {},
   "outputs": [
    {
     "data": {
      "text/plain": [
       "'I 10 and three'"
      ]
     },
     "execution_count": 191,
     "metadata": {},
     "output_type": "execute_result"
    }
   ],
   "source": [
    "\"I %d and %s\" % (number,day)"
   ]
  },
  {
   "cell_type": "code",
   "execution_count": 193,
   "id": "6624afcb-6d58-41d7-b407-e2659ef9a9e7",
   "metadata": {},
   "outputs": [
    {
     "data": {
      "text/plain": [
       "'I 10 and three plus three'"
      ]
     },
     "execution_count": 193,
     "metadata": {},
     "output_type": "execute_result"
    }
   ],
   "source": [
    "\"I %d and %s plus %s\" %(number, day, day)"
   ]
  },
  {
   "cell_type": "code",
   "execution_count": 195,
   "id": "96ca8888-85de-499a-8ae8-2aca94ea0826",
   "metadata": {},
   "outputs": [
    {
     "ename": "ValueError",
     "evalue": "incomplete format",
     "output_type": "error",
     "traceback": [
      "\u001b[1;31m---------------------------------------------------------------------------\u001b[0m",
      "\u001b[1;31mValueError\u001b[0m                                Traceback (most recent call last)",
      "Cell \u001b[1;32mIn[195], line 1\u001b[0m\n\u001b[1;32m----> 1\u001b[0m \u001b[38;5;124m\"\u001b[39m\u001b[38;5;124mError is \u001b[39m\u001b[38;5;132;01m%d\u001b[39;00m\u001b[38;5;124m%\u001b[39m\u001b[38;5;124m.\u001b[39m\u001b[38;5;124m\"\u001b[39m \u001b[38;5;241m%\u001b[39m \u001b[38;5;241m98\u001b[39m\n",
      "\u001b[1;31mValueError\u001b[0m: incomplete format"
     ]
    }
   ],
   "source": [
    "\"Error is %d%.\" % 98"
   ]
  },
  {
   "cell_type": "code",
   "execution_count": 197,
   "id": "e203dd73-fc2f-47bf-b022-abc0aabc7fa3",
   "metadata": {},
   "outputs": [
    {
     "data": {
      "text/plain": [
       "'Error is 98%.'"
      ]
     },
     "execution_count": 197,
     "metadata": {},
     "output_type": "execute_result"
    }
   ],
   "source": [
    "\"Error is %d%%.\" % 98"
   ]
  },
  {
   "cell_type": "code",
   "execution_count": 199,
   "id": "afc47256-57fd-4579-aa70-45da6ba5e5e1",
   "metadata": {},
   "outputs": [
    {
     "data": {
      "text/plain": [
       "'        hi'"
      ]
     },
     "execution_count": 199,
     "metadata": {},
     "output_type": "execute_result"
    }
   ],
   "source": [
    "\"%10s\" % \"hi\""
   ]
  },
  {
   "cell_type": "code",
   "execution_count": 201,
   "id": "3ebb84e6-0160-403c-8343-3b6391a891f2",
   "metadata": {},
   "outputs": [
    {
     "data": {
      "text/plain": [
       "'hi        jane.'"
      ]
     },
     "execution_count": 201,
     "metadata": {},
     "output_type": "execute_result"
    }
   ],
   "source": [
    "\"%-10sjane.\" % 'hi'"
   ]
  },
  {
   "cell_type": "code",
   "execution_count": 203,
   "id": "9adc7b47-397c-433e-9d66-1a0e94f9a2c2",
   "metadata": {},
   "outputs": [
    {
     "data": {
      "text/plain": [
       "'3.4213'"
      ]
     },
     "execution_count": 203,
     "metadata": {},
     "output_type": "execute_result"
    }
   ],
   "source": [
    "\"%0.4f\" % 3.42134234"
   ]
  },
  {
   "cell_type": "code",
   "execution_count": 205,
   "id": "2d387007-b58c-4111-96f1-01ac0ad2e036",
   "metadata": {},
   "outputs": [
    {
     "name": "stderr",
     "output_type": "stream",
     "text": [
      "UsageError: Line magic function `%.4f` not found.\n"
     ]
    }
   ],
   "source": [
    "%.4f %3.12345"
   ]
  },
  {
   "cell_type": "code",
   "execution_count": 207,
   "id": "15389a5c-fcb6-4f92-8ad6-3a3d8e7d1ce9",
   "metadata": {},
   "outputs": [
    {
     "data": {
      "text/plain": [
       "'3.1235'"
      ]
     },
     "execution_count": 207,
     "metadata": {},
     "output_type": "execute_result"
    }
   ],
   "source": [
    "\"%.4f\" %3.12345"
   ]
  },
  {
   "cell_type": "code",
   "execution_count": 209,
   "id": "6063edf5-d4af-4400-9b88-a1c49b741ca7",
   "metadata": {},
   "outputs": [
    {
     "data": {
      "text/plain": [
       "'3.12346'"
      ]
     },
     "execution_count": 209,
     "metadata": {},
     "output_type": "execute_result"
    }
   ],
   "source": [
    "\"%.5f\" %3.123456"
   ]
  },
  {
   "cell_type": "code",
   "execution_count": 211,
   "id": "5ad8368a-5579-4f33-937c-5e11a4b72116",
   "metadata": {},
   "outputs": [
    {
     "data": {
      "text/plain": [
       "'3.4213'"
      ]
     },
     "execution_count": 211,
     "metadata": {},
     "output_type": "execute_result"
    }
   ],
   "source": [
    "\"%.4f\" % 3.42134234"
   ]
  },
  {
   "cell_type": "code",
   "execution_count": 213,
   "id": "42ee5f06-2886-45bc-b355-484be267b739",
   "metadata": {},
   "outputs": [
    {
     "data": {
      "text/plain": [
       "'I eat 3 apples'"
      ]
     },
     "execution_count": 213,
     "metadata": {},
     "output_type": "execute_result"
    }
   ],
   "source": [
    "\"I eat {0} apples\".format(3)"
   ]
  },
  {
   "cell_type": "code",
   "execution_count": 215,
   "id": "b8f7a64d-a5dc-4f50-8f9f-de75ed05351b",
   "metadata": {},
   "outputs": [
    {
     "data": {
      "text/plain": [
       "'I eat 3apples'"
      ]
     },
     "execution_count": 215,
     "metadata": {},
     "output_type": "execute_result"
    }
   ],
   "source": [
    "\"I eat {0}apples\".format(3)"
   ]
  },
  {
   "cell_type": "code",
   "execution_count": 217,
   "id": "9a6ec1c6-9ac8-44bb-ac46-fb08d68b8562",
   "metadata": {},
   "outputs": [
    {
     "data": {
      "text/plain": [
       "'I eat fiveapples'"
      ]
     },
     "execution_count": 217,
     "metadata": {},
     "output_type": "execute_result"
    }
   ],
   "source": [
    "\"I eat {0}apples\". format(\"five\")"
   ]
  },
  {
   "cell_type": "code",
   "execution_count": 219,
   "id": "e1545758-537a-45e7-a98c-89424c3313ed",
   "metadata": {},
   "outputs": [
    {
     "data": {
      "text/plain": [
       "'I ate 10 apples. so I was sick for three three days.'"
      ]
     },
     "execution_count": 219,
     "metadata": {},
     "output_type": "execute_result"
    }
   ],
   "source": [
    "number = 10\n",
    ">>> day = \"three\"\n",
    ">>> \"I ate {0} apples. so I was sick for {1} {1} days.\".format(number, day)"
   ]
  },
  {
   "cell_type": "code",
   "execution_count": 221,
   "id": "afa6570a-60d7-41c0-9ff6-74f01b93e4d0",
   "metadata": {},
   "outputs": [
    {
     "data": {
      "text/plain": [
       "'I ate 10 apples. so I was sick for three 10 days.'"
      ]
     },
     "execution_count": 221,
     "metadata": {},
     "output_type": "execute_result"
    }
   ],
   "source": [
    "number = 10\n",
    ">>> day = \"three\"\n",
    ">>> \"I ate {0} apples. so I was sick for {1} {0} days.\".format(number, day)"
   ]
  },
  {
   "cell_type": "code",
   "execution_count": 223,
   "id": "f3f9c1dc-46ff-40fd-b837-50efbea347d2",
   "metadata": {},
   "outputs": [
    {
     "data": {
      "text/plain": [
       "'====hi===='"
      ]
     },
     "execution_count": 223,
     "metadata": {},
     "output_type": "execute_result"
    }
   ],
   "source": [
    "\"{0:=^10}\".format(\"hi\")"
   ]
  },
  {
   "cell_type": "code",
   "execution_count": 225,
   "id": "96b76373-2e74-4c84-b084-c523f7d9ca0e",
   "metadata": {},
   "outputs": [
    {
     "ename": "ValueError",
     "evalue": "Invalid format specifier '??^10' for object of type 'str'",
     "output_type": "error",
     "traceback": [
      "\u001b[1;31m---------------------------------------------------------------------------\u001b[0m",
      "\u001b[1;31mValueError\u001b[0m                                Traceback (most recent call last)",
      "Cell \u001b[1;32mIn[225], line 1\u001b[0m\n\u001b[1;32m----> 1\u001b[0m \u001b[38;5;124m\"\u001b[39m\u001b[38;5;124m{\u001b[39m\u001b[38;5;124m0:??^10}\u001b[39m\u001b[38;5;124m\"\u001b[39m\u001b[38;5;241m.\u001b[39mformat(\u001b[38;5;124m\"\u001b[39m\u001b[38;5;124mhi\u001b[39m\u001b[38;5;124m\"\u001b[39m)\n",
      "\u001b[1;31mValueError\u001b[0m: Invalid format specifier '??^10' for object of type 'str'"
     ]
    }
   ],
   "source": [
    "\"{0:??^10}\".format(\"hi\")"
   ]
  },
  {
   "cell_type": "code",
   "execution_count": 227,
   "id": "ac87e7f5-d5bc-44d9-aa8e-7ae0cf1851b9",
   "metadata": {},
   "outputs": [
    {
     "ename": "ValueError",
     "evalue": "Invalid format specifier '=?10' for object of type 'str'",
     "output_type": "error",
     "traceback": [
      "\u001b[1;31m---------------------------------------------------------------------------\u001b[0m",
      "\u001b[1;31mValueError\u001b[0m                                Traceback (most recent call last)",
      "Cell \u001b[1;32mIn[227], line 1\u001b[0m\n\u001b[1;32m----> 1\u001b[0m \u001b[38;5;124m\"\u001b[39m\u001b[38;5;124m{\u001b[39m\u001b[38;5;124m0:=?10}\u001b[39m\u001b[38;5;124m\"\u001b[39m\u001b[38;5;241m.\u001b[39mformat(\u001b[38;5;124m\"\u001b[39m\u001b[38;5;124mhi\u001b[39m\u001b[38;5;124m\"\u001b[39m)\n",
      "\u001b[1;31mValueError\u001b[0m: Invalid format specifier '=?10' for object of type 'str'"
     ]
    }
   ],
   "source": [
    "\"{0:=?10}\".format(\"hi\")"
   ]
  },
  {
   "cell_type": "code",
   "execution_count": 229,
   "id": "2d0f66e3-c071-469a-b820-437e81d648fa",
   "metadata": {},
   "outputs": [
    {
     "ename": "ValueError",
     "evalue": "Invalid format specifier '???^10' for object of type 'str'",
     "output_type": "error",
     "traceback": [
      "\u001b[1;31m---------------------------------------------------------------------------\u001b[0m",
      "\u001b[1;31mValueError\u001b[0m                                Traceback (most recent call last)",
      "Cell \u001b[1;32mIn[229], line 1\u001b[0m\n\u001b[1;32m----> 1\u001b[0m \u001b[38;5;124m\"\u001b[39m\u001b[38;5;124m{\u001b[39m\u001b[38;5;124m0:???^10}\u001b[39m\u001b[38;5;124m\"\u001b[39m\u001b[38;5;241m.\u001b[39mformat(\u001b[38;5;124m\"\u001b[39m\u001b[38;5;124mhi\u001b[39m\u001b[38;5;124m\"\u001b[39m)\n",
      "\u001b[1;31mValueError\u001b[0m: Invalid format specifier '???^10' for object of type 'str'"
     ]
    }
   ],
   "source": [
    "\"{0:???^10}\".format(\"hi\")"
   ]
  },
  {
   "cell_type": "code",
   "execution_count": 231,
   "id": "90f7fedf-f565-42c7-89e2-893f8f8ec375",
   "metadata": {},
   "outputs": [
    {
     "data": {
      "text/plain": [
       "'????hi????'"
      ]
     },
     "execution_count": 231,
     "metadata": {},
     "output_type": "execute_result"
    }
   ],
   "source": [
    "\"{0:?^10}\".format(\"hi\")"
   ]
  },
  {
   "cell_type": "code",
   "execution_count": 233,
   "id": "73476bdf-66f0-4e99-9ad6-323f21cf9385",
   "metadata": {},
   "outputs": [
    {
     "data": {
      "text/plain": [
       "'hi&&&&&&&&'"
      ]
     },
     "execution_count": 233,
     "metadata": {},
     "output_type": "execute_result"
    }
   ],
   "source": [
    "\"{0:&<10}\".format(\"hi\")"
   ]
  },
  {
   "cell_type": "code",
   "execution_count": 235,
   "id": "547290b6-ad53-4c60-b0a0-7088811d89dd",
   "metadata": {},
   "outputs": [
    {
     "data": {
      "text/plain": [
       "0"
      ]
     },
     "execution_count": 235,
     "metadata": {},
     "output_type": "execute_result"
    }
   ],
   "source": [
    "a = \"hobby\"\n",
    ">>> a.count('d')"
   ]
  },
  {
   "cell_type": "code",
   "execution_count": 237,
   "id": "976d15fa-94ea-4cf2-9ee1-164a3bab48e0",
   "metadata": {},
   "outputs": [
    {
     "data": {
      "text/plain": [
       "14"
      ]
     },
     "execution_count": 237,
     "metadata": {},
     "output_type": "execute_result"
    }
   ],
   "source": [
    "a = \"Python is the best choice\"\n",
    ">>> a.find('b')"
   ]
  },
  {
   "cell_type": "code",
   "execution_count": 239,
   "id": "920d66af-7ce4-4575-b57a-a81bdf60a910",
   "metadata": {},
   "outputs": [
    {
     "data": {
      "text/plain": [
       "8"
      ]
     },
     "execution_count": 239,
     "metadata": {},
     "output_type": "execute_result"
    }
   ],
   "source": [
    "a = \"Life is too short\"\n",
    ">>> a.index('t')"
   ]
  },
  {
   "cell_type": "code",
   "execution_count": 241,
   "id": "b6bf2d3b-9ee9-4bd7-b127-07850f6b840e",
   "metadata": {},
   "outputs": [
    {
     "data": {
      "text/plain": [
       "['Life', 'is', 'too', 'short']"
      ]
     },
     "execution_count": 241,
     "metadata": {},
     "output_type": "execute_result"
    }
   ],
   "source": [
    "a = \"Life is too short\"\n",
    ">>> a.split()"
   ]
  },
  {
   "cell_type": "code",
   "execution_count": 243,
   "id": "e317d319-c025-4f58-b3a6-156c48dd2f73",
   "metadata": {},
   "outputs": [
    {
     "data": {
      "text/plain": [
       "['a1', '2b3', '4c5', '6d']"
      ]
     },
     "execution_count": 243,
     "metadata": {},
     "output_type": "execute_result"
    }
   ],
   "source": [
    "b = \"a1:2b3:4c5:6d\"\n",
    ">>> b.split(':')"
   ]
  }
 ],
 "metadata": {
  "kernelspec": {
   "display_name": "Python 3 (ipykernel)",
   "language": "python",
   "name": "python3"
  },
  "language_info": {
   "codemirror_mode": {
    "name": "ipython",
    "version": 3
   },
   "file_extension": ".py",
   "mimetype": "text/x-python",
   "name": "python",
   "nbconvert_exporter": "python",
   "pygments_lexer": "ipython3",
   "version": "3.12.4"
  }
 },
 "nbformat": 4,
 "nbformat_minor": 5
}
