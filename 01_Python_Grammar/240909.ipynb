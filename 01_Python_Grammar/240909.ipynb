{
 "cells": [
  {
   "cell_type": "code",
   "execution_count": 3,
   "id": "5a59944e-f6c2-4378-97a9-6246409626d2",
   "metadata": {},
   "outputs": [
    {
     "data": {
      "text/plain": [
       "[0, 1, 2]"
      ]
     },
     "execution_count": 3,
     "metadata": {},
     "output_type": "execute_result"
    }
   ],
   "source": [
    "list(range (3))\n",
    "[0, 1, 2]\n",
    "for i in range(100):\n",
    "    print(i)"
   ]
  },
  {
   "cell_type": "code",
   "execution_count": 5,
   "id": "7d68ee1d-2e6d-42df-93fb-2d8b5bd8f447",
   "metadata": {},
   "outputs": [
    {
     "name": "stdout",
     "output_type": "stream",
     "text": [
      "[0, 2, 4, 6, 8]\n"
     ]
    },
    {
     "data": {
      "text/plain": [
       "[0, 2, 4, 6, 8]"
      ]
     },
     "execution_count": 5,
     "metadata": {},
     "output_type": "execute_result"
    }
   ],
   "source": [
    "2002\n",
    "2006\n",
    "...\n",
    "2046\n",
    "2050\n",
    "print(list(range(0, 10, 2)))\n",
    "[0, 2, 4, 6, 8]"
   ]
  },
  {
   "cell_type": "code",
   "execution_count": 7,
   "id": "8970de09-ab79-41f4-ab4b-df7bc910da9a",
   "metadata": {},
   "outputs": [
    {
     "name": "stdout",
     "output_type": "stream",
     "text": [
      "2002\n",
      "2006\n",
      "2010\n",
      "2014\n",
      "2018\n",
      "2022\n",
      "2026\n",
      "2030\n",
      "2034\n",
      "2038\n",
      "2042\n",
      "2046\n",
      "2050\n"
     ]
    }
   ],
   "source": [
    "for x in range(2002, 2051, 4) :\n",
    "    print (x)"
   ]
  },
  {
   "cell_type": "code",
   "execution_count": 11,
   "id": "b452e0cc-6ab9-46d2-bc1f-ef922fea3eb4",
   "metadata": {},
   "outputs": [
    {
     "name": "stdout",
     "output_type": "stream",
     "text": [
      "3\n",
      "6\n",
      "9\n",
      "12\n",
      "15\n",
      "18\n",
      "21\n",
      "24\n",
      "27\n",
      "30\n"
     ]
    }
   ],
   "source": [
    "for num in range(3, 31, 3):\n",
    "    print (num)"
   ]
  },
  {
   "cell_type": "code",
   "execution_count": 13,
   "id": "67d22ec3-ce8b-4194-9eea-ab302e9d5f9b",
   "metadata": {},
   "outputs": [
    {
     "name": "stdout",
     "output_type": "stream",
     "text": [
      "99\n",
      "98\n",
      "97\n",
      "96\n",
      "95\n",
      "94\n",
      "93\n",
      "92\n",
      "91\n",
      "90\n",
      "89\n",
      "88\n",
      "87\n",
      "86\n",
      "85\n",
      "84\n",
      "83\n",
      "82\n",
      "81\n",
      "80\n",
      "79\n",
      "78\n",
      "77\n",
      "76\n",
      "75\n",
      "74\n",
      "73\n",
      "72\n",
      "71\n",
      "70\n",
      "69\n",
      "68\n",
      "67\n",
      "66\n",
      "65\n",
      "64\n",
      "63\n",
      "62\n",
      "61\n",
      "60\n",
      "59\n",
      "58\n",
      "57\n",
      "56\n",
      "55\n",
      "54\n",
      "53\n",
      "52\n",
      "51\n",
      "50\n",
      "49\n",
      "48\n",
      "47\n",
      "46\n",
      "45\n",
      "44\n",
      "43\n",
      "42\n",
      "41\n",
      "40\n",
      "39\n",
      "38\n",
      "37\n",
      "36\n",
      "35\n",
      "34\n",
      "33\n",
      "32\n",
      "31\n",
      "30\n",
      "29\n",
      "28\n",
      "27\n",
      "26\n",
      "25\n",
      "24\n",
      "23\n",
      "22\n",
      "21\n",
      "20\n",
      "19\n",
      "18\n",
      "17\n",
      "16\n",
      "15\n",
      "14\n",
      "13\n",
      "12\n",
      "11\n",
      "10\n",
      "9\n",
      "8\n",
      "7\n",
      "6\n",
      "5\n",
      "4\n",
      "3\n",
      "2\n",
      "1\n",
      "0\n"
     ]
    }
   ],
   "source": [
    "for i in range(100):\n",
    "    print(99 - i)"
   ]
  },
  {
   "cell_type": "code",
   "execution_count": 19,
   "id": "3cbbef7b-654d-4cbc-bc85-e621af7ce55d",
   "metadata": {},
   "outputs": [
    {
     "name": "stdout",
     "output_type": "stream",
     "text": [
      "0.0\n",
      "0.1\n",
      "0.2\n",
      "0.3\n",
      "0.4\n",
      "0.5\n",
      "0.6\n",
      "0.7\n",
      "0.8\n",
      "0.9\n"
     ]
    }
   ],
   "source": [
    "for num in range(10) :\n",
    "    print(num / 10)"
   ]
  },
  {
   "cell_type": "code",
   "execution_count": 21,
   "id": "ce259801-885f-4f73-bf69-07fa125fc02f",
   "metadata": {},
   "outputs": [
    {
     "name": "stdout",
     "output_type": "stream",
     "text": [
      "3 x 1  =  3\n",
      "3 x 2  =  6\n",
      "3 x 3  =  9\n",
      "3 x 4  =  12\n",
      "3 x 5  =  15\n",
      "3 x 6  =  18\n",
      "3 x 7  =  21\n",
      "3 x 8  =  24\n",
      "3 x 9  =  27\n"
     ]
    }
   ],
   "source": [
    "for i in range(1, 10) :\n",
    "    print (3, \"x\", i, \" = \", 3 * i)"
   ]
  },
  {
   "cell_type": "code",
   "execution_count": 23,
   "id": "09119310-61d6-43c2-850d-582788d59478",
   "metadata": {},
   "outputs": [
    {
     "name": "stdout",
     "output_type": "stream",
     "text": [
      "3 x 1  =  3\n",
      "3 x 3  =  9\n",
      "3 x 5  =  15\n",
      "3 x 7  =  21\n",
      "3 x 9  =  27\n"
     ]
    }
   ],
   "source": [
    "num = 3\n",
    "for i in range(1, 10, 2) :\n",
    "    print (num, \"x\", i, \" = \", num * i)"
   ]
  },
  {
   "cell_type": "code",
   "execution_count": 25,
   "id": "c028a4df-74e4-4fe6-bc4c-c18d47aed62b",
   "metadata": {},
   "outputs": [
    {
     "name": "stdout",
     "output_type": "stream",
     "text": [
      "합 : 55\n"
     ]
    }
   ],
   "source": [
    "hab = 0\n",
    "for i in range(1, 11):\n",
    "    hab += i\n",
    "print (\"합 :\", hab)"
   ]
  },
  {
   "cell_type": "code",
   "execution_count": 27,
   "id": "2b6df033-d09c-4332-84cc-366ef261dcbc",
   "metadata": {},
   "outputs": [
    {
     "name": "stdout",
     "output_type": "stream",
     "text": [
      "합 : 25\n"
     ]
    }
   ],
   "source": [
    "hab = 0\n",
    "for i in range(1, 11, 2):\n",
    "    hab += i\n",
    "print (\"합 :\", hab)"
   ]
  },
  {
   "cell_type": "code",
   "execution_count": 33,
   "id": "6ca62937-45e8-4a37-a6c2-8004d656abf0",
   "metadata": {},
   "outputs": [
    {
     "name": "stdout",
     "output_type": "stream",
     "text": [
      "3628800\n"
     ]
    }
   ],
   "source": [
    "result = 1\n",
    "for i in range(1, 11) :\n",
    "    result *= i\n",
    "print(result)\n",
    "result = result * i"
   ]
  },
  {
   "cell_type": "code",
   "execution_count": 39,
   "id": "bdf38786-7a6c-4f39-87d3-7dfb7589c600",
   "metadata": {},
   "outputs": [
    {
     "ename": "NameError",
     "evalue": "name 'price_list' is not defined",
     "output_type": "error",
     "traceback": [
      "\u001b[1;31m---------------------------------------------------------------------------\u001b[0m",
      "\u001b[1;31mNameError\u001b[0m                                 Traceback (most recent call last)",
      "Cell \u001b[1;32mIn[39], line 1\u001b[0m\n\u001b[1;32m----> 1\u001b[0m \u001b[38;5;28;01mfor\u001b[39;00m i \u001b[38;5;129;01min\u001b[39;00m \u001b[38;5;28mrange\u001b[39m(\u001b[38;5;28mlen\u001b[39m(price_list)):\n\u001b[0;32m      2\u001b[0m     \u001b[38;5;28mprint\u001b[39m(price_list[i])\n",
      "\u001b[1;31mNameError\u001b[0m: name 'price_list' is not defined"
     ]
    }
   ],
   "source": [
    "for i in range(len(price_list)):\n",
    "    print(price_list[i])"
   ]
  },
  {
   "cell_type": "code",
   "execution_count": 41,
   "id": "169d0567-87c7-4542-afd3-ca7b4f08e4fc",
   "metadata": {},
   "outputs": [
    {
     "name": "stdout",
     "output_type": "stream",
     "text": [
      "0 32100\n",
      "1 32150\n",
      "2 32000\n",
      "3 32500\n"
     ]
    }
   ],
   "source": [
    "price_list = [32100, 32150, 32000, 32500]\n",
    "for i, data in enumerate(price_list):\n",
    "    print(i, data)"
   ]
  },
  {
   "cell_type": "code",
   "execution_count": 45,
   "id": "4bf5c55f-8b6f-417a-ba02-c6fb6610678d",
   "metadata": {},
   "outputs": [
    {
     "name": "stdout",
     "output_type": "stream",
     "text": [
      "3 32100\n",
      "2 32150\n",
      "1 32000\n",
      "0 32500\n",
      "3 32100\n",
      "2 32150\n",
      "1 32000\n",
      "0 32500\n"
     ]
    }
   ],
   "source": [
    "for i in range(len(price_list)):\n",
    "    print(3 - i, price_list[i])\n",
    "for i in range(len(price_list)):\n",
    "    print((len(price_list) - 1) - i, price_list[i])\n"
   ]
  },
  {
   "cell_type": "code",
   "execution_count": 47,
   "id": "469ccb9a-de7f-4fa4-b6ab-4ae73eb8258e",
   "metadata": {},
   "outputs": [
    {
     "name": "stdout",
     "output_type": "stream",
     "text": [
      "100 32150\n",
      "110 32000\n",
      "120 32500\n"
     ]
    }
   ],
   "source": [
    "for i in range(1, 4):\n",
    "    print(90 + 10 * i, price_list[i])"
   ]
  },
  {
   "cell_type": "code",
   "execution_count": null,
   "id": "9aeaf10d-ec58-4f41-834f-91b10a9c722c",
   "metadata": {},
   "outputs": [],
   "source": [
    "stock = [ [\"시가\", 100, 200, 300], [\"종가\", 80, 210, 330] ]"
   ]
  },
  {
   "cell_type": "code",
   "execution_count": 53,
   "id": "81b9d991-43cb-43f2-aa0b-36bc03ed53e9",
   "metadata": {},
   "outputs": [
    {
     "ename": "NameError",
     "evalue": "name 'my_list' is not defined",
     "output_type": "error",
     "traceback": [
      "\u001b[1;31m---------------------------------------------------------------------------\u001b[0m",
      "\u001b[1;31mNameError\u001b[0m                                 Traceback (most recent call last)",
      "Cell \u001b[1;32mIn[53], line 1\u001b[0m\n\u001b[1;32m----> 1\u001b[0m \u001b[38;5;28mprint\u001b[39m(my_list[\u001b[38;5;241m0\u001b[39m], my_list[\u001b[38;5;241m1\u001b[39m])\n\u001b[0;32m      2\u001b[0m \u001b[38;5;28mprint\u001b[39m(my_list[\u001b[38;5;241m1\u001b[39m], my_list[\u001b[38;5;241m2\u001b[39m])\n\u001b[0;32m      3\u001b[0m \u001b[38;5;28mprint\u001b[39m(my_list[\u001b[38;5;241m2\u001b[39m], my_list[\u001b[38;5;241m3\u001b[39m])\n",
      "\u001b[1;31mNameError\u001b[0m: name 'my_list' is not defined"
     ]
    }
   ],
   "source": [
    "print(my_list[0], my_list[1])\n",
    "print(my_list[1], my_list[2])\n",
    "print(my_list[2], my_list[3])\n",
    "for i in [0, 1, 2]:\n",
    "    print(my_list[i])"
   ]
  },
  {
   "cell_type": "code",
   "execution_count": 3,
   "id": "2c4f931d-d045-4b5c-af1f-46b15d1ca81d",
   "metadata": {},
   "outputs": [
    {
     "name": "stdout",
     "output_type": "stream",
     "text": [
      "2000.28\n",
      "3050.427\n",
      "2050.2870000000003\n",
      "1980.2772\n",
      "7501.05\n",
      "2050.2870000000003\n",
      "2050.2870000000003\n",
      "1980.2772\n",
      "15452.163\n",
      "15052.107\n",
      "15552.177\n",
      "14902.086000000001\n"
     ]
    }
   ],
   "source": [
    "data = [\n",
    "    [ 2000,  3050,  2050,  1980],\n",
    "    [ 7500,  2050,  2050,  1980],\n",
    "    [15450, 15050, 15550, 14900]\n",
    "]\n",
    "for line in data:\n",
    "    for column in line:\n",
    "        print(column * 1.00014)"
   ]
  },
  {
   "cell_type": "code",
   "execution_count": 5,
   "id": "ade47221-2546-4b5a-9389-ccec444ac1b3",
   "metadata": {},
   "outputs": [
    {
     "name": "stdout",
     "output_type": "stream",
     "text": [
      "2000.28\n",
      "3050.427\n",
      "2050.2870000000003\n",
      "1980.2772\n",
      "----\n",
      "7501.05\n",
      "2050.2870000000003\n",
      "2050.2870000000003\n",
      "1980.2772\n",
      "----\n",
      "15452.163\n",
      "15052.107\n",
      "15552.177\n",
      "14902.086000000001\n",
      "----\n"
     ]
    }
   ],
   "source": [
    "for line in data:\n",
    "    for column in line:\n",
    "        print(column * 1.00014)\n",
    "    print(\"----\")"
   ]
  },
  {
   "cell_type": "code",
   "execution_count": 7,
   "id": "a418846c-b0c7-4c94-88fc-186350b9792c",
   "metadata": {},
   "outputs": [
    {
     "name": "stdout",
     "output_type": "stream",
     "text": [
      "[2000.28, 3050.427, 2050.2870000000003, 1980.2772, 7501.05, 2050.2870000000003, 2050.2870000000003, 1980.2772, 15452.163, 15052.107, 15552.177, 14902.086000000001]\n"
     ]
    }
   ],
   "source": [
    "result = []\n",
    "for line in data:\n",
    "    for column in line:\n",
    "        result.append(column * 1.00014)\n",
    "print(result)"
   ]
  },
  {
   "cell_type": "code",
   "execution_count": 9,
   "id": "56427997-6e4e-4542-a887-3ac78512df2a",
   "metadata": {},
   "outputs": [
    {
     "name": "stdout",
     "output_type": "stream",
     "text": [
      "[[2000.28, 3050.427, 2050.2870000000003, 1980.2772], [7501.05, 2050.2870000000003, 2050.2870000000003, 1980.2772], [15452.163, 15052.107, 15552.177, 14902.086000000001]]\n"
     ]
    }
   ],
   "source": [
    "result = []\n",
    "for line in data:\n",
    "    sub = []\n",
    "    for column in line:\n",
    "        sub.append(column * 1.00014)\n",
    "    result.append(sub)\n",
    "print(result)"
   ]
  },
  {
   "cell_type": "code",
   "execution_count": 11,
   "id": "1fe20dbf-75ce-4518-9328-68d5ed796e6e",
   "metadata": {},
   "outputs": [],
   "source": [
    "ohlc = [[\"open\", \"high\", \"low\", \"close\"],\n",
    "        [100, 110, 70, 100],\n",
    "        [200, 210, 180, 190],\n",
    "        [300, 310, 300, 310]]"
   ]
  },
  {
   "cell_type": "code",
   "execution_count": 13,
   "id": "07621af1-caea-4f88-ad0b-efe40b039429",
   "metadata": {},
   "outputs": [
    {
     "name": "stdout",
     "output_type": "stream",
     "text": [
      "100\n",
      "190\n",
      "310\n"
     ]
    }
   ],
   "source": [
    "for row in ohlc[1:]:\n",
    "    print(row[3])"
   ]
  },
  {
   "cell_type": "code",
   "execution_count": 15,
   "id": "a85ee95f-8042-499c-8de1-d9d6d4c4c31e",
   "metadata": {},
   "outputs": [
    {
     "name": "stdout",
     "output_type": "stream",
     "text": [
      "190\n",
      "310\n"
     ]
    }
   ],
   "source": [
    "for row in ohlc[1:]:\n",
    "    if (row[3] > 150):\n",
    "        print(row[3])"
   ]
  },
  {
   "cell_type": "code",
   "execution_count": 17,
   "id": "446134fd-149c-4da7-8c8f-29fef3d0ae9d",
   "metadata": {},
   "outputs": [
    {
     "name": "stdout",
     "output_type": "stream",
     "text": [
      "100\n",
      "310\n"
     ]
    }
   ],
   "source": [
    "for row in ohlc[1:]:\n",
    "    if (row[3] >= row[0]):\n",
    "        print(row[3])"
   ]
  },
  {
   "cell_type": "code",
   "execution_count": 19,
   "id": "66948854-9451-4589-beb8-fd3a2f7de01a",
   "metadata": {},
   "outputs": [
    {
     "name": "stdout",
     "output_type": "stream",
     "text": [
      "[40, 30, 10]\n"
     ]
    }
   ],
   "source": [
    "volatility = []\n",
    "for row in ohlc[1:]:\n",
    "    volatility.append(row[1]-row[2])\n",
    "volatility = []\n",
    "for i in range(1, len(ohlc)):\n",
    "    volatility.append(ohlc[i][1]-ohlc[i][2])\n",
    "print(volatility)"
   ]
  },
  {
   "cell_type": "code",
   "execution_count": 21,
   "id": "0954e417-e21c-4609-9204-5ab1d0954e8d",
   "metadata": {},
   "outputs": [
    {
     "name": "stdout",
     "output_type": "stream",
     "text": [
      "10\n"
     ]
    }
   ],
   "source": [
    "ohlc = [[\"open\", \"high\", \"low\", \"close\"],\n",
    "        [100, 110, 70, 100],\n",
    "        [200, 210, 180, 190],\n",
    "        [300, 310, 300, 310]]\n",
    "for row in ohlc[1:]:\n",
    "    if row[3] > row[0]:\n",
    "        print(row[1]-row[2])"
   ]
  },
  {
   "cell_type": "code",
   "execution_count": 27,
   "id": "5d78bb1b-fdb3-4101-813f-1f7c4cd57b96",
   "metadata": {},
   "outputs": [],
   "source": [
    "ohlc = [[\"open\", \"high\", \"low\", \"close\"],\n",
    "        [100, 110, 70, 100],\n",
    "        [200, 210, 180, 190],\n",
    "        [300, 310, 300, 310]]"
   ]
  },
  {
   "cell_type": "code",
   "execution_count": 31,
   "id": "72fe3e3d-39f2-4672-b17a-c4ca5f576c5d",
   "metadata": {},
   "outputs": [],
   "source": [
    "profit = 0\n",
    "for row in ohlc[1:]:\n",
    "    profit += (row[3] - row[0])"
   ]
  },
  {
   "cell_type": "code",
   "execution_count": null,
   "id": "2969cd44-fe0e-4a6b-b317-f8db7b699538",
   "metadata": {},
   "outputs": [],
   "source": []
  },
  {
   "cell_type": "code",
   "execution_count": null,
   "id": "c52af938-18ba-4ef7-aef4-e0adb0b11bf5",
   "metadata": {},
   "outputs": [],
   "source": []
  },
  {
   "cell_type": "code",
   "execution_count": null,
   "id": "03821c63-4080-4632-bc28-8afd73e3c433",
   "metadata": {},
   "outputs": [],
   "source": []
  },
  {
   "cell_type": "code",
   "execution_count": null,
   "id": "05e5f7aa-878a-4956-96ca-643d6e6839d0",
   "metadata": {},
   "outputs": [],
   "source": []
  }
 ],
 "metadata": {
  "kernelspec": {
   "display_name": "Python 3 (ipykernel)",
   "language": "python",
   "name": "python3"
  },
  "language_info": {
   "codemirror_mode": {
    "name": "ipython",
    "version": 3
   },
   "file_extension": ".py",
   "mimetype": "text/x-python",
   "name": "python",
   "nbconvert_exporter": "python",
   "pygments_lexer": "ipython3",
   "version": "3.12.4"
  }
 },
 "nbformat": 4,
 "nbformat_minor": 5
}
