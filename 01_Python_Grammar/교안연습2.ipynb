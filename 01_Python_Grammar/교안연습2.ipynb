{
 "cells": [
  {
   "cell_type": "code",
   "execution_count": 1,
   "id": "11525df1-86c0-4088-a3fc-b19e15bab371",
   "metadata": {},
   "outputs": [],
   "source": [
    "#리스트"
   ]
  },
  {
   "cell_type": "code",
   "execution_count": null,
   "id": "910a7647-6f6b-43b8-8b34-36c27fe6e07c",
   "metadata": {},
   "outputs": [],
   "source": [
    "odd = [1, 3, 5, 7, 9]"
   ]
  },
  {
   "cell_type": "code",
   "execution_count": 11,
   "id": "8cf31700-4696-4a53-be70-99d974f66008",
   "metadata": {},
   "outputs": [],
   "source": [
    "a = []\n",
    "b = [1, 2, 3]\n",
    "c = ['Life', 'is', 'too', 'short']\n",
    "d = [1, 2, 'Life', 'is']\n",
    "e = [1, 2, ['Life', 'is']]\n",
    "f = list()"
   ]
  },
  {
   "cell_type": "code",
   "execution_count": 13,
   "id": "987cd81f-f9c8-4f2a-87dc-8a58a8d32921",
   "metadata": {},
   "outputs": [
    {
     "data": {
      "text/plain": [
       "([],\n",
       " [1, 2, 3],\n",
       " ['Life', 'is', 'too', 'short'],\n",
       " [1, 2, 'Life', 'is'],\n",
       " [1, 2, ['Life', 'is']],\n",
       " [])"
      ]
     },
     "execution_count": 13,
     "metadata": {},
     "output_type": "execute_result"
    }
   ],
   "source": [
    "a,b,c,d,e,f"
   ]
  },
  {
   "cell_type": "code",
   "execution_count": 15,
   "id": "2da54ab9-6273-40d0-99a0-3c2aa455a050",
   "metadata": {},
   "outputs": [
    {
     "data": {
      "text/plain": [
       "list"
      ]
     },
     "execution_count": 15,
     "metadata": {},
     "output_type": "execute_result"
    }
   ],
   "source": [
    "type(a)"
   ]
  },
  {
   "cell_type": "code",
   "execution_count": 17,
   "id": "9d65d100-1db3-4b33-a36e-2766ee0b2f56",
   "metadata": {},
   "outputs": [
    {
     "data": {
      "text/plain": [
       "list"
      ]
     },
     "execution_count": 17,
     "metadata": {},
     "output_type": "execute_result"
    }
   ],
   "source": [
    "type(e)"
   ]
  },
  {
   "cell_type": "code",
   "execution_count": 19,
   "id": "a130938a-a07a-4eb4-9415-337a61c07535",
   "metadata": {},
   "outputs": [
    {
     "data": {
      "text/plain": [
       "[1, 2, 3]"
      ]
     },
     "execution_count": 19,
     "metadata": {},
     "output_type": "execute_result"
    }
   ],
   "source": [
    "a = [1, 2, 3]\n",
    "a\n",
    "[1, 2, 3]"
   ]
  },
  {
   "cell_type": "code",
   "execution_count": 23,
   "id": "a2673810-c6f7-457b-baf2-dfa16b065056",
   "metadata": {},
   "outputs": [
    {
     "data": {
      "text/plain": [
       "[1, 2, 3, ['a', 'b', 'c']]"
      ]
     },
     "execution_count": 23,
     "metadata": {},
     "output_type": "execute_result"
    }
   ],
   "source": [
    "a=[1,2,3,['a','b','c']]\n",
    "a"
   ]
  },
  {
   "cell_type": "code",
   "execution_count": 25,
   "id": "23903e20-8047-4176-bce4-28f5d81360b6",
   "metadata": {},
   "outputs": [
    {
     "data": {
      "text/plain": [
       "4"
      ]
     },
     "execution_count": 25,
     "metadata": {},
     "output_type": "execute_result"
    }
   ],
   "source": [
    "len(a)"
   ]
  },
  {
   "cell_type": "code",
   "execution_count": 27,
   "id": "c62e1d8c-9f2c-45c9-af65-7f3750e36e75",
   "metadata": {},
   "outputs": [],
   "source": [
    "a = [1, 2, 3, 4, 5]"
   ]
  },
  {
   "cell_type": "code",
   "execution_count": 29,
   "id": "81860ad0-5c67-42ce-b244-638bfbaf180d",
   "metadata": {},
   "outputs": [
    {
     "data": {
      "text/plain": [
       "[1, 2]"
      ]
     },
     "execution_count": 29,
     "metadata": {},
     "output_type": "execute_result"
    }
   ],
   "source": [
    "a[0:2]"
   ]
  },
  {
   "cell_type": "code",
   "execution_count": 31,
   "id": "758ae73e-220a-4d17-b238-ef1a80af4672",
   "metadata": {},
   "outputs": [
    {
     "data": {
      "text/plain": [
       "[1]"
      ]
     },
     "execution_count": 31,
     "metadata": {},
     "output_type": "execute_result"
    }
   ],
   "source": [
    "a[0:1]"
   ]
  },
  {
   "cell_type": "code",
   "execution_count": 33,
   "id": "677464f7-4b9e-4b58-83e9-985ab1a4acd6",
   "metadata": {},
   "outputs": [
    {
     "data": {
      "text/plain": [
       "[1, 2, 3, 4]"
      ]
     },
     "execution_count": 33,
     "metadata": {},
     "output_type": "execute_result"
    }
   ],
   "source": [
    "a[0:4]"
   ]
  },
  {
   "cell_type": "code",
   "execution_count": 35,
   "id": "12cd7ca8-66a7-4837-b6ff-ca4edf3fa724",
   "metadata": {},
   "outputs": [
    {
     "data": {
      "text/plain": [
       "[1, 3]"
      ]
     },
     "execution_count": 35,
     "metadata": {},
     "output_type": "execute_result"
    }
   ],
   "source": [
    "a = [1, 2, 3]\n",
    "del a[1]\n",
    "a\n",
    "[1, 3]"
   ]
  },
  {
   "cell_type": "code",
   "execution_count": 39,
   "id": "d2db5179-6c55-4c2c-80a5-51666a984667",
   "metadata": {},
   "outputs": [
    {
     "data": {
      "text/plain": [
       "[1, 3]"
      ]
     },
     "execution_count": 39,
     "metadata": {},
     "output_type": "execute_result"
    }
   ],
   "source": [
    "del a[2:]\n",
    "a"
   ]
  },
  {
   "cell_type": "code",
   "execution_count": 51,
   "id": "ab1dc9f6-823c-4686-83e0-34ebe423df3b",
   "metadata": {},
   "outputs": [
    {
     "data": {
      "text/plain": [
       "['가', '나', '다', '라']"
      ]
     },
     "execution_count": 51,
     "metadata": {},
     "output_type": "execute_result"
    }
   ],
   "source": [
    "a = ['가', '다', '라', '나']\n",
    "a.sort()\n",
    "a"
   ]
  },
  {
   "cell_type": "code",
   "execution_count": 53,
   "id": "52b18288-fa23-43ee-8edc-2bed0eb5e256",
   "metadata": {},
   "outputs": [
    {
     "data": {
      "text/plain": [
       "['a', 'b', 'c', 'd']"
      ]
     },
     "execution_count": 53,
     "metadata": {},
     "output_type": "execute_result"
    }
   ],
   "source": [
    "a = ['a', 'c', 'd', 'b']\n",
    "a.sort()\n",
    "a"
   ]
  },
  {
   "cell_type": "code",
   "execution_count": 49,
   "id": "454ce7f7-db4f-40a3-9f5e-d78fb560c493",
   "metadata": {},
   "outputs": [
    {
     "data": {
      "text/plain": [
       "['a', 'b', 'c']"
      ]
     },
     "execution_count": 49,
     "metadata": {},
     "output_type": "execute_result"
    }
   ],
   "source": [
    ">>> a = ['a', 'c', 'b']\n",
    ">>> a.sort()\n",
    ">>> a"
   ]
  },
  {
   "cell_type": "code",
   "execution_count": 55,
   "id": "3e97480f-922e-42ef-86a2-3f19439b4a9a",
   "metadata": {},
   "outputs": [],
   "source": [
    "a = ['a', 'c', 'b']\n",
    "a.reverse()"
   ]
  },
  {
   "cell_type": "code",
   "execution_count": 59,
   "id": "15467e84-b319-4acd-abe6-0f84727d3d0c",
   "metadata": {},
   "outputs": [
    {
     "data": {
      "text/plain": [
       "['b', 'c', 'a']"
      ]
     },
     "execution_count": 59,
     "metadata": {},
     "output_type": "execute_result"
    }
   ],
   "source": [
    "a"
   ]
  },
  {
   "cell_type": "code",
   "execution_count": 63,
   "id": "7f9b1efd-287e-4020-8ddd-d476f8c6d1e4",
   "metadata": {},
   "outputs": [
    {
     "data": {
      "text/plain": [
       "((), (1,), (1, 2, 3), (1, 2, 3), ('a', 'b', ('ab', 'cd')))"
      ]
     },
     "execution_count": 63,
     "metadata": {},
     "output_type": "execute_result"
    }
   ],
   "source": [
    "t1 = ()\n",
    "t2 = (1,)\n",
    "t3 = (1, 2, 3)\n",
    "t4 = 1, 2, 3\n",
    "t5 = ('a', 'b', ('ab', 'cd'))\n",
    "t1, t2, t3, t4, t5"
   ]
  },
  {
   "cell_type": "code",
   "execution_count": 65,
   "id": "9f7ab109-a6b8-4a9f-b561-04ca64015130",
   "metadata": {},
   "outputs": [
    {
     "data": {
      "text/plain": [
       "(tuple, tuple, tuple)"
      ]
     },
     "execution_count": 65,
     "metadata": {},
     "output_type": "execute_result"
    }
   ],
   "source": [
    "type(t1), type(t2), type(t3)"
   ]
  },
  {
   "cell_type": "code",
   "execution_count": 67,
   "id": "2263b34d-bcde-4d65-a1cc-f6f5b6645bc2",
   "metadata": {},
   "outputs": [
    {
     "data": {
      "text/plain": [
       "(tuple, tuple)"
      ]
     },
     "execution_count": 67,
     "metadata": {},
     "output_type": "execute_result"
    }
   ],
   "source": [
    "type(t4), type(t5)"
   ]
  },
  {
   "cell_type": "code",
   "execution_count": 71,
   "id": "72d531f8-a8da-4b93-8bf5-e737d1d9f846",
   "metadata": {},
   "outputs": [
    {
     "data": {
      "text/plain": [
       "{'H', 'e', 'l', 'o'}"
      ]
     },
     "execution_count": 71,
     "metadata": {},
     "output_type": "execute_result"
    }
   ],
   "source": [
    "s2 = set(\"Hello\")\n",
    "s2"
   ]
  },
  {
   "cell_type": "code",
   "execution_count": 77,
   "id": "dae547a5-6491-418e-8b64-4ae3dae6ab54",
   "metadata": {},
   "outputs": [
    {
     "data": {
      "text/plain": [
       "{'H', 'e', 'l', 'o'}"
      ]
     },
     "execution_count": 77,
     "metadata": {},
     "output_type": "execute_result"
    }
   ],
   "source": [
    "s = set()\n",
    "s2"
   ]
  },
  {
   "cell_type": "code",
   "execution_count": 79,
   "id": "55bfb1ec-27a4-4b47-87f4-d1fa9d704873",
   "metadata": {},
   "outputs": [],
   "source": [
    "s1 = set([1, 2, 3, 4, 5, 6])\n",
    "s2 = set([4, 5, 6, 7, 8, 9])"
   ]
  },
  {
   "cell_type": "code",
   "execution_count": 81,
   "id": "9eae078c-7ae8-4f8b-ba46-b50c49507cea",
   "metadata": {},
   "outputs": [
    {
     "data": {
      "text/plain": [
       "{4, 5, 6}"
      ]
     },
     "execution_count": 81,
     "metadata": {},
     "output_type": "execute_result"
    }
   ],
   "source": [
    "s1 & s2"
   ]
  },
  {
   "cell_type": "code",
   "execution_count": 83,
   "id": "afcad9ce-51ec-4cc9-bfcd-e12b8fee3d25",
   "metadata": {},
   "outputs": [
    {
     "data": {
      "text/plain": [
       "2476631654784"
      ]
     },
     "execution_count": 83,
     "metadata": {},
     "output_type": "execute_result"
    }
   ],
   "source": [
    "a = [1, 2, 3]\n",
    ">>> a = [1, 2, 3]\n",
    ">>> id(a)"
   ]
  },
  {
   "cell_type": "code",
   "execution_count": 85,
   "id": "5815e263-de7c-49e4-abe9-edbf94312cce",
   "metadata": {},
   "outputs": [
    {
     "data": {
      "text/plain": [
       "2476631563008"
      ]
     },
     "execution_count": 85,
     "metadata": {},
     "output_type": "execute_result"
    }
   ],
   "source": [
    ">>> a = [1, 2, 3]\n",
    ">>> id(a)"
   ]
  },
  {
   "cell_type": "code",
   "execution_count": 87,
   "id": "fd63ee1e-5103-483b-867d-3e79d88c414f",
   "metadata": {},
   "outputs": [],
   "source": [
    ">>> a = 1\n",
    ">>> b = \"python\"\n",
    ">>> c = [1, 2, 3]"
   ]
  },
  {
   "cell_type": "code",
   "execution_count": 89,
   "id": "986fbdfb-12f8-4b67-98cf-93c70cb04806",
   "metadata": {},
   "outputs": [
    {
     "data": {
      "text/plain": [
       "4303029896"
      ]
     },
     "execution_count": 89,
     "metadata": {},
     "output_type": "execute_result"
    }
   ],
   "source": [
    ">>> a = [1, 2, 3]\n",
    ">>> id(a)\n",
    "4303029896"
   ]
  },
  {
   "cell_type": "code",
   "execution_count": 91,
   "id": "dad25dce-a53b-4559-9316-1672662dca23",
   "metadata": {},
   "outputs": [],
   "source": [
    ">>> a = [1, 2, 3]\n",
    ">>> b = a"
   ]
  },
  {
   "cell_type": "code",
   "execution_count": 93,
   "id": "912243bf-545b-47fc-9656-82e873c241f0",
   "metadata": {},
   "outputs": [
    {
     "data": {
      "text/plain": [
       "2476613043840"
      ]
     },
     "execution_count": 93,
     "metadata": {},
     "output_type": "execute_result"
    }
   ],
   "source": [
    ">>> id(a)"
   ]
  },
  {
   "cell_type": "code",
   "execution_count": 95,
   "id": "18dd0c81-4c90-43d9-97c2-18096fcb6213",
   "metadata": {},
   "outputs": [],
   "source": [
    ">>> a = [1, 2, 3]\n",
    ">>> b = a"
   ]
  },
  {
   "cell_type": "code",
   "execution_count": 97,
   "id": "e082c285-874f-457e-a5b0-24df65aa591c",
   "metadata": {},
   "outputs": [
    {
     "data": {
      "text/plain": [
       "2476631647872"
      ]
     },
     "execution_count": 97,
     "metadata": {},
     "output_type": "execute_result"
    }
   ],
   "source": [
    ">>> id(a)"
   ]
  },
  {
   "cell_type": "code",
   "execution_count": null,
   "id": "d7c9bf8c-eb05-44b1-b435-1e87b7c98d85",
   "metadata": {},
   "outputs": [],
   "source": []
  },
  {
   "cell_type": "code",
   "execution_count": null,
   "id": "4853f223-86e1-46f5-b2d8-81f90de4a170",
   "metadata": {},
   "outputs": [],
   "source": []
  },
  {
   "cell_type": "code",
   "execution_count": null,
   "id": "d256f20c-20c9-4480-864b-00f995e4812e",
   "metadata": {},
   "outputs": [],
   "source": []
  },
  {
   "cell_type": "code",
   "execution_count": null,
   "id": "76e5383c-aee9-4023-b439-2fe7cf992535",
   "metadata": {},
   "outputs": [],
   "source": []
  },
  {
   "cell_type": "code",
   "execution_count": null,
   "id": "53679266-494f-4b61-b47c-81d89a1288df",
   "metadata": {},
   "outputs": [],
   "source": []
  },
  {
   "cell_type": "code",
   "execution_count": null,
   "id": "8156b975-dbe9-4f41-a61a-966a3e007cad",
   "metadata": {},
   "outputs": [],
   "source": []
  }
 ],
 "metadata": {
  "kernelspec": {
   "display_name": "Python 3 (ipykernel)",
   "language": "python",
   "name": "python3"
  },
  "language_info": {
   "codemirror_mode": {
    "name": "ipython",
    "version": 3
   },
   "file_extension": ".py",
   "mimetype": "text/x-python",
   "name": "python",
   "nbconvert_exporter": "python",
   "pygments_lexer": "ipython3",
   "version": "3.12.4"
  }
 },
 "nbformat": 4,
 "nbformat_minor": 5
}
