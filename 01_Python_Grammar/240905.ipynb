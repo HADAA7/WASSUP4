{
 "cells": [
  {
   "cell_type": "code",
   "execution_count": 3,
   "id": "7ee9537b-fbb9-463d-b77b-75ad982230c7",
   "metadata": {},
   "outputs": [],
   "source": [
    "movie_rank=[\"닥터 스트레인지\", \"스플릿\", \"럭키\"]"
   ]
  },
  {
   "cell_type": "code",
   "execution_count": 5,
   "id": "81357a15-1906-46ae-bc3d-f549f340bf76",
   "metadata": {},
   "outputs": [
    {
     "name": "stdout",
     "output_type": "stream",
     "text": [
      "['닥터 스트레인지', '스플릿', '럭키', '배트맨']\n"
     ]
    }
   ],
   "source": [
    "movie_rank = [\"닥터 스트레인지\", \"스플릿\", \"럭키\"]\n",
    "movie_rank.append(\"배트맨\")\n",
    "print(movie_rank)"
   ]
  },
  {
   "cell_type": "code",
   "execution_count": 7,
   "id": "9adb750f-fa46-465d-885b-ca8477d44843",
   "metadata": {},
   "outputs": [],
   "source": [
    "movie_rank = ['닥터 스트레인지', '스플릿', '럭키', '배트맨']"
   ]
  },
  {
   "cell_type": "code",
   "execution_count": 9,
   "id": "fc6655bd-abfd-4731-9486-6b1d6168072f",
   "metadata": {},
   "outputs": [
    {
     "name": "stdout",
     "output_type": "stream",
     "text": [
      "['닥터 스트레인지', '슈퍼맨', '스플릿', '럭키', '배트맨']\n"
     ]
    }
   ],
   "source": [
    "movie_rank = ['닥터 스트레인지', '스플릿', '럭키', '배트맨']\n",
    "movie_rank.insert(1, \"슈퍼맨\")\n",
    "print(movie_rank)"
   ]
  },
  {
   "cell_type": "code",
   "execution_count": 11,
   "id": "6b637256-a11d-4444-9543-de9d99e87388",
   "metadata": {},
   "outputs": [
    {
     "name": "stdout",
     "output_type": "stream",
     "text": [
      "['닥터 스트레인지', '슈퍼맨', '스플릿', '배트맨']\n"
     ]
    }
   ],
   "source": [
    "movie_rank = ['닥터 스트레인지', '슈퍼맨', '스플릿', '럭키', '배트맨']\n",
    "del movie_rank[3]\n",
    "print(movie_rank)"
   ]
  },
  {
   "cell_type": "code",
   "execution_count": 17,
   "id": "32bc9d51-45c7-4146-ab90-4d335e7fc509",
   "metadata": {},
   "outputs": [],
   "source": [
    "movie_rank = ['닥터 스트레인지', '슈퍼맨', '스플릿', '배트맨']\n",
    "del movie_rank[2]"
   ]
  },
  {
   "cell_type": "code",
   "execution_count": 19,
   "id": "0cf3a86c-2588-4122-b057-4887e67e4c39",
   "metadata": {},
   "outputs": [
    {
     "name": "stdout",
     "output_type": "stream",
     "text": [
      "['닥터 스트레인지', '슈퍼맨', '배트맨']\n"
     ]
    }
   ],
   "source": [
    "print(movie_rank)"
   ]
  },
  {
   "cell_type": "code",
   "execution_count": 21,
   "id": "569ddc86-6053-4549-aa7e-d05f455b0e76",
   "metadata": {},
   "outputs": [
    {
     "name": "stdout",
     "output_type": "stream",
     "text": [
      "['닥터 스트레인지', '슈퍼맨']\n"
     ]
    }
   ],
   "source": [
    "del movie_rank[2]\n",
    "print(movie_rank)"
   ]
  },
  {
   "cell_type": "code",
   "execution_count": 23,
   "id": "08262b66-02d0-45ac-b47c-e9d19ef7cccf",
   "metadata": {},
   "outputs": [
    {
     "name": "stdout",
     "output_type": "stream",
     "text": [
      "['슈퍼맨']\n"
     ]
    }
   ],
   "source": [
    "del movie_rank[0]\n",
    "print(movie_rank)"
   ]
  },
  {
   "cell_type": "code",
   "execution_count": 25,
   "id": "20f97576-ff22-4f83-a093-ec5682973992",
   "metadata": {},
   "outputs": [],
   "source": [
    "lang1 = [\"C\", \"C++\", \"JAVA\"]\n",
    "lang2 = [\"Python\", \"Go\", \"C#\"]"
   ]
  },
  {
   "cell_type": "code",
   "execution_count": 27,
   "id": "a08cc1d2-655a-492e-8f89-f7041d178f57",
   "metadata": {},
   "outputs": [
    {
     "ename": "NameError",
     "evalue": "name 'langs' is not defined",
     "output_type": "error",
     "traceback": [
      "\u001b[1;31m---------------------------------------------------------------------------\u001b[0m",
      "\u001b[1;31mNameError\u001b[0m                                 Traceback (most recent call last)",
      "Cell \u001b[1;32mIn[27], line 2\u001b[0m\n\u001b[0;32m      1\u001b[0m lang1 \u001b[38;5;241m=\u001b[39m [\u001b[38;5;124m\"\u001b[39m\u001b[38;5;124mC\u001b[39m\u001b[38;5;124m\"\u001b[39m, \u001b[38;5;124m\"\u001b[39m\u001b[38;5;124mC++\u001b[39m\u001b[38;5;124m\"\u001b[39m, \u001b[38;5;124m\"\u001b[39m\u001b[38;5;124mJAVA\u001b[39m\u001b[38;5;124m\"\u001b[39m]\n\u001b[1;32m----> 2\u001b[0m \u001b[38;5;28mprint\u001b[39m(langs)\n",
      "\u001b[1;31mNameError\u001b[0m: name 'langs' is not defined"
     ]
    }
   ],
   "source": [
    "lang1 = [\"C\", \"C++\", \"JAVA\"]\n",
    "print(langs)"
   ]
  },
  {
   "cell_type": "code",
   "execution_count": 33,
   "id": "9cfe32a5-05a5-44f8-9014-076282192a2e",
   "metadata": {},
   "outputs": [],
   "source": [
    "lang1 = [\"C\", \"C++\", \"JAVA\"]\n",
    "lang2 = [\"Python\", \"Go\", \"C#\"]\n",
    "langs = lang1 + lang2"
   ]
  },
  {
   "cell_type": "code",
   "execution_count": 35,
   "id": "ee78e00e-984c-4bf2-89b5-fc5e8df67b71",
   "metadata": {},
   "outputs": [
    {
     "name": "stdout",
     "output_type": "stream",
     "text": [
      "['C', 'C++', 'JAVA', 'Python', 'Go', 'C#']\n"
     ]
    }
   ],
   "source": [
    "print(langs)"
   ]
  },
  {
   "cell_type": "code",
   "execution_count": 39,
   "id": "053500b7-1a8e-4fdd-af44-9f0ce2b7a86b",
   "metadata": {},
   "outputs": [],
   "source": [
    "nums=[1, 2, 3, 4, 5, 6, 7]"
   ]
  },
  {
   "cell_type": "code",
   "execution_count": 45,
   "id": "074e6b5e-4025-4899-a53e-51bba4b390ec",
   "metadata": {},
   "outputs": [
    {
     "name": "stdout",
     "output_type": "stream",
     "text": [
      "max: 7\n",
      "min: 1\n"
     ]
    }
   ],
   "source": [
    "print(\"max:\", max(nums))\n",
    "print(\"min:\", min(nums))"
   ]
  },
  {
   "cell_type": "code",
   "execution_count": 47,
   "id": "9dacd28d-9add-4331-b05e-8a3008ea6273",
   "metadata": {},
   "outputs": [],
   "source": [
    "nums= [1, 2, 3, 4, 5]"
   ]
  },
  {
   "cell_type": "code",
   "execution_count": 49,
   "id": "546a14d9-f031-4bf4-b475-72fac2c59c67",
   "metadata": {},
   "outputs": [
    {
     "name": "stdout",
     "output_type": "stream",
     "text": [
      "15\n"
     ]
    }
   ],
   "source": [
    "print(sum(nums))"
   ]
  },
  {
   "cell_type": "code",
   "execution_count": 51,
   "id": "4b43a6b5-0278-4caa-9a89-cf991214c162",
   "metadata": {},
   "outputs": [],
   "source": [
    "cook=[\"피자\", \"김밥\", \"만두\", \"양념치킨\", \"족발\", \"피자\", \"김치만두\", \"쫄면\", \"소시지\", \"라면\", \"팥빙수\", \"김치전\"]"
   ]
  },
  {
   "cell_type": "code",
   "execution_count": 53,
   "id": "416d7eff-97a1-431d-9da4-bd87f60175c5",
   "metadata": {},
   "outputs": [
    {
     "name": "stdout",
     "output_type": "stream",
     "text": [
      "12\n"
     ]
    }
   ],
   "source": [
    "print(len(cook))"
   ]
  },
  {
   "cell_type": "code",
   "execution_count": 55,
   "id": "f1db7f83-597b-4d53-913c-62952456e721",
   "metadata": {},
   "outputs": [],
   "source": [
    "nums= [1, 2, 3, 4, 5]"
   ]
  },
  {
   "cell_type": "code",
   "execution_count": 57,
   "id": "5c9abccc-7452-496e-b560-6c78051ad85d",
   "metadata": {},
   "outputs": [
    {
     "name": "stdout",
     "output_type": "stream",
     "text": [
      "3.0\n"
     ]
    }
   ],
   "source": [
    "average= sum(nums)/len(nums)\n",
    "print(average)"
   ]
  },
  {
   "cell_type": "code",
   "execution_count": 59,
   "id": "d62fb932-84ce-4dd9-b048-6e6c19ba681b",
   "metadata": {},
   "outputs": [],
   "source": [
    "my_variable = ()"
   ]
  },
  {
   "cell_type": "code",
   "execution_count": 63,
   "id": "794af7ad-e5f3-4adf-a99a-7006f543cfd3",
   "metadata": {},
   "outputs": [
    {
     "name": "stdout",
     "output_type": "stream",
     "text": [
      "<class 'tuple'>\n"
     ]
    }
   ],
   "source": [
    "print(type(my_variable))"
   ]
  },
  {
   "cell_type": "code",
   "execution_count": 71,
   "id": "d80740e1-5ef0-4388-ad53-f58bc26b5f60",
   "metadata": {},
   "outputs": [],
   "source": [
    "t=('a', 'b', 'c')"
   ]
  },
  {
   "cell_type": "code",
   "execution_count": 75,
   "id": "fd3b7012-3066-4692-8ae4-7e36d7925d32",
   "metadata": {},
   "outputs": [],
   "source": [
    "interest=('삼성전자', 'LG전자', 'SK하이닉스')"
   ]
  },
  {
   "cell_type": "code",
   "execution_count": 79,
   "id": "fc91404a-d993-46b1-a9c1-1c0d8358832f",
   "metadata": {},
   "outputs": [],
   "source": [
    "data = list(interest)"
   ]
  },
  {
   "cell_type": "code",
   "execution_count": null,
   "id": "0f2e60cc-5c53-4ddf-ab95-1ad3a16251cc",
   "metadata": {},
   "outputs": [],
   "source": [
    "interest = ['삼성전자', 'LG전자', 'SK하이닉']"
   ]
  },
  {
   "cell_type": "code",
   "execution_count": 81,
   "id": "4a1d7302-18a9-475e-b2e8-845ffd746dda",
   "metadata": {},
   "outputs": [],
   "source": [
    "data=tuple(interest)"
   ]
  },
  {
   "cell_type": "code",
   "execution_count": 85,
   "id": "20f73d40-4e64-4740-96b7-9f38bf668f11",
   "metadata": {},
   "outputs": [
    {
     "name": "stdout",
     "output_type": "stream",
     "text": [
      "apple banana cake\n"
     ]
    }
   ],
   "source": [
    "temp=('apple', 'banana', 'cake')\n",
    "a, b, c=temp\n",
    "print(a, b, c)"
   ]
  },
  {
   "cell_type": "code",
   "execution_count": 87,
   "id": "33a7d474-7e02-43a6-bfcf-9b37d5a710bd",
   "metadata": {},
   "outputs": [
    {
     "ename": "SyntaxError",
     "evalue": "invalid syntax. Perhaps you forgot a comma? (3754134818.py, line 1)",
     "output_type": "error",
     "traceback": [
      "\u001b[1;36m  Cell \u001b[1;32mIn[87], line 1\u001b[1;36m\u001b[0m\n\u001b[1;33m    (2, 4, 6, 8 ...98)\u001b[0m\n\u001b[1;37m              ^\u001b[0m\n\u001b[1;31mSyntaxError\u001b[0m\u001b[1;31m:\u001b[0m invalid syntax. Perhaps you forgot a comma?\n"
     ]
    }
   ],
   "source": [
    "(2, 4, 6, 8 ...98)"
   ]
  },
  {
   "cell_type": "code",
   "execution_count": 91,
   "id": "9430f128-3919-4eb1-b6d5-abcabab23b28",
   "metadata": {},
   "outputs": [
    {
     "name": "stdout",
     "output_type": "stream",
     "text": [
      "(2, 4, 6, 8, 10, 12, 14, 16, 18, 20, 22, 24, 26, 28, 30, 32, 34, 36, 38, 40, 42, 44, 46, 48, 50, 52, 54, 56, 58, 60, 62, 64, 66, 68, 70, 72, 74, 76, 78, 80, 82, 84, 86, 88, 90, 92, 94, 96, 98)\n"
     ]
    }
   ],
   "source": [
    "data=tuple(range(2, 100, 2))\n",
    "print(data)"
   ]
  },
  {
   "cell_type": "code",
   "execution_count": 93,
   "id": "691bf453-50e8-4ad0-8ce5-1c1e88bb8e72",
   "metadata": {},
   "outputs": [],
   "source": [
    "scores=[8.8, 8.9, 8.7, 9.2, 9.3, 9.7, 9.9, 9.5, 7.8, 9.4]"
   ]
  },
  {
   "cell_type": "code",
   "execution_count": 95,
   "id": "2d662a95-3071-4a20-a080-428eb4949498",
   "metadata": {},
   "outputs": [],
   "source": [
    "scores=[8.8, 8.9, 8.7, 9.2, 9.3, 9.7, 9.9, 9.5, 7.8, 9.4]\n",
    "a, b,*valid_score= scores"
   ]
  },
  {
   "cell_type": "code",
   "execution_count": 98,
   "id": "ec3197e4-efe3-4f2c-9eff-f17016a1955f",
   "metadata": {},
   "outputs": [
    {
     "name": "stdout",
     "output_type": "stream",
     "text": [
      "[8.7, 9.2, 9.3, 9.7, 9.9, 9.5, 7.8, 9.4]\n"
     ]
    }
   ],
   "source": [
    "print(valid_score)"
   ]
  },
  {
   "cell_type": "code",
   "execution_count": 100,
   "id": "586b204f-38e0-4563-ab32-7478ff07e145",
   "metadata": {},
   "outputs": [
    {
     "name": "stdout",
     "output_type": "stream",
     "text": [
      "[8.9, 8.7, 9.2, 9.3, 9.7, 9.9, 9.5, 7.8]\n"
     ]
    }
   ],
   "source": [
    "scores= [8.8, 8.9, 8.7, 9.2, 9.3, 9.7, 9.9, 9.5, 7.8, 9.4]\n",
    "a, *valid_score, b=scores\n",
    "print(valid_score)"
   ]
  },
  {
   "cell_type": "code",
   "execution_count": 102,
   "id": "986a8f47-328a-404b-84c9-63208f8e8646",
   "metadata": {},
   "outputs": [],
   "source": [
    "temp={ }"
   ]
  },
  {
   "cell_type": "code",
   "execution_count": 108,
   "id": "1a2cc473-36c7-4eca-b9f7-9c2f27b1fa97",
   "metadata": {},
   "outputs": [
    {
     "name": "stdout",
     "output_type": "stream",
     "text": [
      "{'메로나': 1000, '폴라포': 1200, '빵빠레': 1800}\n"
     ]
    }
   ],
   "source": [
    "ice={\"메로나\":1000,\"폴라포\":1200,\"빵빠레\":1800}\n",
    "print(ice)"
   ]
  },
  {
   "cell_type": "code",
   "execution_count": 110,
   "id": "0eda0112-6e7a-43d3-b4b9-7992f0ac85de",
   "metadata": {},
   "outputs": [
    {
     "name": "stdout",
     "output_type": "stream",
     "text": [
      "{'메로나': 1000, '폴라포': 1200, '빵빠레': 1800, '죠스바': 1200, '월드콘': 1500}\n"
     ]
    }
   ],
   "source": [
    "ice={\"메로나\":1000, \"폴라포\":1200, \"빵빠레\":1800}\n",
    "ice[\"죠스바\"]= 1200\n",
    "ice[\"월드콘\"]= 1500\n",
    "print(ice)"
   ]
  },
  {
   "cell_type": "code",
   "execution_count": 112,
   "id": "db3aff6f-8e0d-47a7-bd01-9c6ca5565604",
   "metadata": {},
   "outputs": [],
   "source": [
    "ice={'메로나':1000,'폴로포':1200,'빵빠레':1800,'죠스바':1200,'월드콘':1500}"
   ]
  },
  {
   "cell_type": "code",
   "execution_count": 114,
   "id": "49ba35c4-3eff-4298-92a3-6303389796bb",
   "metadata": {},
   "outputs": [
    {
     "ename": "SyntaxError",
     "evalue": "invalid syntax. Perhaps you forgot a comma? (311917031.py, line 1)",
     "output_type": "error",
     "traceback": [
      "\u001b[1;36m  Cell \u001b[1;32mIn[114], line 1\u001b[1;36m\u001b[0m\n\u001b[1;33m    print(\"메로나 가격: \"ice[\"메로나\"])\u001b[0m\n\u001b[1;37m          ^\u001b[0m\n\u001b[1;31mSyntaxError\u001b[0m\u001b[1;31m:\u001b[0m invalid syntax. Perhaps you forgot a comma?\n"
     ]
    }
   ],
   "source": [
    "print(\"메로나 가격: \"ice[\"메로나\"])"
   ]
  },
  {
   "cell_type": "code",
   "execution_count": 118,
   "id": "51303bf6-0eac-4e42-b4b9-aaa167c4c51f",
   "metadata": {},
   "outputs": [
    {
     "name": "stdout",
     "output_type": "stream",
     "text": [
      "메로나 가격: 1000\n"
     ]
    }
   ],
   "source": [
    "print(\"메로나 가격:\",ice[\"메로나\"])"
   ]
  },
  {
   "cell_type": "code",
   "execution_count": 120,
   "id": "c475b844-12b4-468c-b68c-f138521840e9",
   "metadata": {},
   "outputs": [],
   "source": [
    "ice[\"메로나\"]=1300"
   ]
  },
  {
   "cell_type": "code",
   "execution_count": 122,
   "id": "de26e765-50f9-4ad7-8740-3db65659a0fd",
   "metadata": {},
   "outputs": [
    {
     "name": "stdout",
     "output_type": "stream",
     "text": [
      "{'메로나': 1300, '폴로포': 1200, '빵빠레': 1800, '죠스바': 1200, '월드콘': 1500}\n"
     ]
    }
   ],
   "source": [
    "print(ice)"
   ]
  },
  {
   "cell_type": "code",
   "execution_count": 126,
   "id": "064d39a9-9793-4fd7-8eb0-0361a3722788",
   "metadata": {},
   "outputs": [],
   "source": [
    "del ice[\"메로나\"]"
   ]
  },
  {
   "cell_type": "code",
   "execution_count": 128,
   "id": "13176807-bf69-4b2d-a036-8ec5581c2652",
   "metadata": {},
   "outputs": [
    {
     "name": "stdout",
     "output_type": "stream",
     "text": [
      "{'폴로포': 1200, '빵빠레': 1800, '죠스바': 1200, '월드콘': 1500}\n"
     ]
    }
   ],
   "source": [
    "print(ice)"
   ]
  },
  {
   "cell_type": "code",
   "execution_count": null,
   "id": "1fa9e2fb-9b11-4080-8962-1661102e91e6",
   "metadata": {},
   "outputs": [],
   "source": []
  },
  {
   "cell_type": "code",
   "execution_count": null,
   "id": "0b553156-2d3e-453e-abc7-801cf69dae96",
   "metadata": {},
   "outputs": [],
   "source": []
  },
  {
   "cell_type": "code",
   "execution_count": null,
   "id": "092993f7-d766-426f-85e4-5aa4f3b54679",
   "metadata": {},
   "outputs": [],
   "source": []
  },
  {
   "cell_type": "code",
   "execution_count": null,
   "id": "26b570d4-734e-4e08-84a3-53641d64f716",
   "metadata": {},
   "outputs": [],
   "source": []
  },
  {
   "cell_type": "code",
   "execution_count": null,
   "id": "75e154a3-386c-497c-b1e1-52d2e7a257e1",
   "metadata": {},
   "outputs": [],
   "source": []
  },
  {
   "cell_type": "code",
   "execution_count": null,
   "id": "162568f0-8a57-4c80-896b-890a8a02d2bd",
   "metadata": {},
   "outputs": [],
   "source": []
  }
 ],
 "metadata": {
  "kernelspec": {
   "display_name": "Python 3 (ipykernel)",
   "language": "python",
   "name": "python3"
  },
  "language_info": {
   "codemirror_mode": {
    "name": "ipython",
    "version": 3
   },
   "file_extension": ".py",
   "mimetype": "text/x-python",
   "name": "python",
   "nbconvert_exporter": "python",
   "pygments_lexer": "ipython3",
   "version": "3.12.4"
  }
 },
 "nbformat": 4,
 "nbformat_minor": 5
}
